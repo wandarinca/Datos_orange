{
 "cells": [
  {
   "cell_type": "code",
   "execution_count": 30,
   "metadata": {
    "collapsed": true
   },
   "outputs": [],
   "source": [
    "import pandas as pd\n",
    "import numpy as np\n",
    "import time"
   ]
  },
  {
   "cell_type": "markdown",
   "metadata": {},
   "source": [
    "# Load Data"
   ]
  },
  {
   "cell_type": "code",
   "execution_count": 71,
   "metadata": {
    "collapsed": false
   },
   "outputs": [
    {
     "name": "stdout",
     "output_type": "stream",
     "text": [
      "0:00:01\n",
      "Index([u'Unnamed: 0', u'FECHA_RECEPC', u'SEXO', u'G_ETAREO', u'EDAD',\n",
      "       u'FECHA_PRESTACION_SERVICIO', u'SUM_VLR_DETALLE'],\n",
      "      dtype='object') (1553023, 7)\n"
     ]
    }
   ],
   "source": [
    "start = time.time()\n",
    "df2010 = pd.read_csv(\"2010.csv\")\n",
    "time_loading = time.time()-start\n",
    "m, s = divmod(time_loading, 60)\n",
    "h, m = divmod(m, 60)\n",
    "print( \"%d:%02d:%02d\" % (h, m, s))\n",
    "print df2010.columns, df2010.shape"
   ]
  },
  {
   "cell_type": "code",
   "execution_count": 72,
   "metadata": {
    "collapsed": false
   },
   "outputs": [
    {
     "name": "stdout",
     "output_type": "stream",
     "text": [
      "0:00:01\n",
      "Index([u'Unnamed: 0', u'FECHA_RECEPC', u'SEXO', u'G_ETAREO', u'EDAD',\n",
      "       u'FECHA_PRESTACION_SERVICIO', u'SUM_VLR_DETALLE'],\n",
      "      dtype='object') (1894051, 7)\n"
     ]
    }
   ],
   "source": [
    "start = time.time()\n",
    "df2011 = pd.read_csv(\"2011.csv\")\n",
    "time_loading = time.time()-start\n",
    "m, s = divmod(time_loading, 60)\n",
    "h, m = divmod(m, 60)\n",
    "print( \"%d:%02d:%02d\" % (h, m, s))\n",
    "print df2011.columns, df2011.shape"
   ]
  },
  {
   "cell_type": "code",
   "execution_count": 73,
   "metadata": {
    "collapsed": false
   },
   "outputs": [
    {
     "name": "stdout",
     "output_type": "stream",
     "text": [
      "0:00:01\n",
      "Index([u'Unnamed: 0', u'FECHA_RECEPC', u'SEXO', u'G_ETAREO', u'EDAD',\n",
      "       u'FECHA_PRESTACION_SERVICIO', u'SUM_VLR_DETALLE'],\n",
      "      dtype='object') (1981634, 7)\n"
     ]
    }
   ],
   "source": [
    "start = time.time()\n",
    "df2012 = pd.read_csv(\"2012.csv\")\n",
    "time_loading = time.time()-start\n",
    "m, s = divmod(time_loading, 60)\n",
    "h, m = divmod(m, 60)\n",
    "print( \"%d:%02d:%02d\" % (h, m, s))\n",
    "print df2012.columns, df2012.shape"
   ]
  },
  {
   "cell_type": "code",
   "execution_count": 74,
   "metadata": {
    "collapsed": false
   },
   "outputs": [
    {
     "name": "stdout",
     "output_type": "stream",
     "text": [
      "0:00:01\n",
      "Index([u'Unnamed: 0', u'FECHA_RECEPC', u'SEXO', u'G_ETAREO', u'EDAD',\n",
      "       u'FECHA_PRESTACION_SERVICIO', u'SUM_VLR_DETALLE'],\n",
      "      dtype='object') (2014307, 7)\n"
     ]
    }
   ],
   "source": [
    "start = time.time()\n",
    "df2013 = pd.read_csv(\"2013.csv\")\n",
    "time_loading = time.time()-start\n",
    "m, s = divmod(time_loading, 60)\n",
    "h, m = divmod(m, 60)\n",
    "print( \"%d:%02d:%02d\" % (h, m, s))\n",
    "print df2013.columns, df2013.shape"
   ]
  },
  {
   "cell_type": "code",
   "execution_count": 75,
   "metadata": {
    "collapsed": false
   },
   "outputs": [
    {
     "name": "stdout",
     "output_type": "stream",
     "text": [
      "0:00:01\n",
      "Index([u'Unnamed: 0', u'FECHA_RECEPC', u'SEXO', u'G_ETAREO', u'EDAD',\n",
      "       u'FECHA_PRESTACION_SERVICIO', u'SUM_VLR_DETALLE'],\n",
      "      dtype='object') (2222775, 7)\n"
     ]
    }
   ],
   "source": [
    "start = time.time()\n",
    "df2014 = pd.read_csv(\"2014.csv\")\n",
    "time_loading = time.time()-start\n",
    "m, s = divmod(time_loading, 60)\n",
    "h, m = divmod(m, 60)\n",
    "print( \"%d:%02d:%02d\" % (h, m, s))\n",
    "print df2014.columns, df2014.shape"
   ]
  },
  {
   "cell_type": "code",
   "execution_count": 77,
   "metadata": {
    "collapsed": false
   },
   "outputs": [
    {
     "name": "stdout",
     "output_type": "stream",
     "text": [
      "0:00:00\n",
      "Index([u'Unnamed: 0.1', u'FECHA_RECEPC', u'SEXO', u'G_ETAREO', u'EDAD',\n",
      "       u'FECHA_PRESTACION_SERVICIO', u'SUM_VLR_DETALLE'],\n",
      "      dtype='object') (1215099, 7)\n"
     ]
    }
   ],
   "source": [
    "start = time.time()\n",
    "df2015 = pd.read_csv(\"2015.csv\", index_col=0)#index_col=0\n",
    "time_loading = time.time()-start\n",
    "m, s = divmod(time_loading, 60)\n",
    "h, m = divmod(m, 60)\n",
    "print( \"%d:%02d:%02d\" % (h, m, s))\n",
    "print df2015.columns, df2015.shape"
   ]
  },
  {
   "cell_type": "markdown",
   "metadata": {},
   "source": [
    "**Nota:** El tiempo disminuyó para la lectura de datos. Total leyendo todos los años: 13 segundos. En comparación con la lectura de un sólo excel que tardaba en promedio 3 minutos."
   ]
  },
  {
   "cell_type": "code",
   "execution_count": 78,
   "metadata": {
    "collapsed": true
   },
   "outputs": [],
   "source": [
    "frames = [df2010,df2011,df2012,df2013,df2014,df2015]\n",
    "df_full = pd.concat(frames)"
   ]
  },
  {
   "cell_type": "code",
   "execution_count": 79,
   "metadata": {
    "collapsed": false
   },
   "outputs": [
    {
     "data": {
      "text/plain": [
       "(10880889, 8)"
      ]
     },
     "execution_count": 79,
     "metadata": {},
     "output_type": "execute_result"
    }
   ],
   "source": [
    "df_full.shape #10 millones de registros de datos"
   ]
  },
  {
   "cell_type": "code",
   "execution_count": 80,
   "metadata": {
    "collapsed": true
   },
   "outputs": [],
   "source": [
    "df_full.to_csv(\"datos_todo.csv\")"
   ]
  },
  {
   "cell_type": "markdown",
   "metadata": {},
   "source": [
    "# Correlación  Coeficiente de Pearson \n",
    "\n",
    "Es una medida de la relación lineal entre dos variables aleatorias cuantitativas. A diferencia de la covarianza, la correlación de Pearson es independiente de la escala de medida de las variables.\n",
    "\n",
    "- 1) Encontrar correlacion entre grupo etáreo y la suma del valor.\n",
    "- 2) Edad y suma del valor.\n",
    "- 3) Sexo y suma del valor.\n",
    "- 4) Tipo de servicio y suma del valor (?)\n",
    "- 5) Regresión en 1)"
   ]
  },
  {
   "cell_type": "code",
   "execution_count": 41,
   "metadata": {
    "collapsed": false
   },
   "outputs": [
    {
     "name": "stdout",
     "output_type": "stream",
     "text": [
      "Index([u'Unnamed: 0', u'FECHA_RECEPC', u'SEXO', u'G_ETAREO', u'EDAD',\n",
      "       u'FECHA_PRESTACION_SERVICIO', u'SUM_VLR_DETALLE'],\n",
      "      dtype='object')\n"
     ]
    }
   ],
   "source": [
    "print df_full.columns "
   ]
  },
  {
   "cell_type": "markdown",
   "metadata": {},
   "source": [
    "**Columnas cuantitativas: **  EDAD, SUM_VLR_DETALLE\n",
    "\n",
    "**Categóricas: ** SEXO, G_ETAREO\n",
    "\n",
    "**OTROS: ** CIUDADES Y FECHAS, TIPO DE SERVICIO"
   ]
  },
  {
   "cell_type": "code",
   "execution_count": 81,
   "metadata": {
    "collapsed": false
   },
   "outputs": [
    {
     "data": {
      "text/html": [
       "<div>\n",
       "<table border=\"1\" class=\"dataframe\">\n",
       "  <thead>\n",
       "    <tr style=\"text-align: right;\">\n",
       "      <th></th>\n",
       "      <th>Unnamed: 0</th>\n",
       "      <th>SEXO</th>\n",
       "      <th>G_ETAREO</th>\n",
       "      <th>EDAD</th>\n",
       "      <th>SUM_VLR_DETALLE</th>\n",
       "    </tr>\n",
       "  </thead>\n",
       "  <tbody>\n",
       "    <tr>\n",
       "      <th>Unnamed: 0</th>\n",
       "      <td>1.000000</td>\n",
       "      <td>-0.060302</td>\n",
       "      <td>0.029972</td>\n",
       "      <td>0.029720</td>\n",
       "      <td>0.006604</td>\n",
       "    </tr>\n",
       "    <tr>\n",
       "      <th>SEXO</th>\n",
       "      <td>-0.060302</td>\n",
       "      <td>1.000000</td>\n",
       "      <td>0.001138</td>\n",
       "      <td>-0.000286</td>\n",
       "      <td>-0.004736</td>\n",
       "    </tr>\n",
       "    <tr>\n",
       "      <th>G_ETAREO</th>\n",
       "      <td>0.029972</td>\n",
       "      <td>0.001138</td>\n",
       "      <td>1.000000</td>\n",
       "      <td>0.998051</td>\n",
       "      <td>0.001271</td>\n",
       "    </tr>\n",
       "    <tr>\n",
       "      <th>EDAD</th>\n",
       "      <td>0.029720</td>\n",
       "      <td>-0.000286</td>\n",
       "      <td>0.998051</td>\n",
       "      <td>1.000000</td>\n",
       "      <td>0.001324</td>\n",
       "    </tr>\n",
       "    <tr>\n",
       "      <th>SUM_VLR_DETALLE</th>\n",
       "      <td>0.006604</td>\n",
       "      <td>-0.004736</td>\n",
       "      <td>0.001271</td>\n",
       "      <td>0.001324</td>\n",
       "      <td>1.000000</td>\n",
       "    </tr>\n",
       "  </tbody>\n",
       "</table>\n",
       "</div>"
      ],
      "text/plain": [
       "                 Unnamed: 0      SEXO  G_ETAREO      EDAD  SUM_VLR_DETALLE\n",
       "Unnamed: 0         1.000000 -0.060302  0.029972  0.029720         0.006604\n",
       "SEXO              -0.060302  1.000000  0.001138 -0.000286        -0.004736\n",
       "G_ETAREO           0.029972  0.001138  1.000000  0.998051         0.001271\n",
       "EDAD               0.029720 -0.000286  0.998051  1.000000         0.001324\n",
       "SUM_VLR_DETALLE    0.006604 -0.004736  0.001271  0.001324         1.000000"
      ]
     },
     "execution_count": 81,
     "metadata": {},
     "output_type": "execute_result"
    }
   ],
   "source": [
    "df2010.corr(method='pearson')"
   ]
  },
  {
   "cell_type": "code",
   "execution_count": 82,
   "metadata": {
    "collapsed": false
   },
   "outputs": [
    {
     "data": {
      "text/html": [
       "<div>\n",
       "<table border=\"1\" class=\"dataframe\">\n",
       "  <thead>\n",
       "    <tr style=\"text-align: right;\">\n",
       "      <th></th>\n",
       "      <th>Unnamed: 0</th>\n",
       "      <th>SEXO</th>\n",
       "      <th>G_ETAREO</th>\n",
       "      <th>EDAD</th>\n",
       "      <th>SUM_VLR_DETALLE</th>\n",
       "    </tr>\n",
       "  </thead>\n",
       "  <tbody>\n",
       "    <tr>\n",
       "      <th>Unnamed: 0</th>\n",
       "      <td>1.000000</td>\n",
       "      <td>-0.050472</td>\n",
       "      <td>-0.022590</td>\n",
       "      <td>-0.022497</td>\n",
       "      <td>0.003914</td>\n",
       "    </tr>\n",
       "    <tr>\n",
       "      <th>SEXO</th>\n",
       "      <td>-0.050472</td>\n",
       "      <td>1.000000</td>\n",
       "      <td>0.013420</td>\n",
       "      <td>0.011647</td>\n",
       "      <td>-0.003384</td>\n",
       "    </tr>\n",
       "    <tr>\n",
       "      <th>G_ETAREO</th>\n",
       "      <td>-0.022590</td>\n",
       "      <td>0.013420</td>\n",
       "      <td>1.000000</td>\n",
       "      <td>0.998096</td>\n",
       "      <td>-0.000706</td>\n",
       "    </tr>\n",
       "    <tr>\n",
       "      <th>EDAD</th>\n",
       "      <td>-0.022497</td>\n",
       "      <td>0.011647</td>\n",
       "      <td>0.998096</td>\n",
       "      <td>1.000000</td>\n",
       "      <td>-0.000627</td>\n",
       "    </tr>\n",
       "    <tr>\n",
       "      <th>SUM_VLR_DETALLE</th>\n",
       "      <td>0.003914</td>\n",
       "      <td>-0.003384</td>\n",
       "      <td>-0.000706</td>\n",
       "      <td>-0.000627</td>\n",
       "      <td>1.000000</td>\n",
       "    </tr>\n",
       "  </tbody>\n",
       "</table>\n",
       "</div>"
      ],
      "text/plain": [
       "                 Unnamed: 0      SEXO  G_ETAREO      EDAD  SUM_VLR_DETALLE\n",
       "Unnamed: 0         1.000000 -0.050472 -0.022590 -0.022497         0.003914\n",
       "SEXO              -0.050472  1.000000  0.013420  0.011647        -0.003384\n",
       "G_ETAREO          -0.022590  0.013420  1.000000  0.998096        -0.000706\n",
       "EDAD              -0.022497  0.011647  0.998096  1.000000        -0.000627\n",
       "SUM_VLR_DETALLE    0.003914 -0.003384 -0.000706 -0.000627         1.000000"
      ]
     },
     "execution_count": 82,
     "metadata": {},
     "output_type": "execute_result"
    }
   ],
   "source": [
    "df2011.corr(method='pearson')"
   ]
  },
  {
   "cell_type": "code",
   "execution_count": 83,
   "metadata": {
    "collapsed": false
   },
   "outputs": [
    {
     "data": {
      "text/html": [
       "<div>\n",
       "<table border=\"1\" class=\"dataframe\">\n",
       "  <thead>\n",
       "    <tr style=\"text-align: right;\">\n",
       "      <th></th>\n",
       "      <th>Unnamed: 0</th>\n",
       "      <th>SEXO</th>\n",
       "      <th>G_ETAREO</th>\n",
       "      <th>EDAD</th>\n",
       "      <th>SUM_VLR_DETALLE</th>\n",
       "    </tr>\n",
       "  </thead>\n",
       "  <tbody>\n",
       "    <tr>\n",
       "      <th>Unnamed: 0</th>\n",
       "      <td>1.000000</td>\n",
       "      <td>-0.048975</td>\n",
       "      <td>-0.029381</td>\n",
       "      <td>-0.028948</td>\n",
       "      <td>0.016357</td>\n",
       "    </tr>\n",
       "    <tr>\n",
       "      <th>SEXO</th>\n",
       "      <td>-0.048975</td>\n",
       "      <td>1.000000</td>\n",
       "      <td>0.026371</td>\n",
       "      <td>0.025438</td>\n",
       "      <td>-0.007237</td>\n",
       "    </tr>\n",
       "    <tr>\n",
       "      <th>G_ETAREO</th>\n",
       "      <td>-0.029381</td>\n",
       "      <td>0.026371</td>\n",
       "      <td>1.000000</td>\n",
       "      <td>0.998149</td>\n",
       "      <td>0.004229</td>\n",
       "    </tr>\n",
       "    <tr>\n",
       "      <th>EDAD</th>\n",
       "      <td>-0.028948</td>\n",
       "      <td>0.025438</td>\n",
       "      <td>0.998149</td>\n",
       "      <td>1.000000</td>\n",
       "      <td>0.004277</td>\n",
       "    </tr>\n",
       "    <tr>\n",
       "      <th>SUM_VLR_DETALLE</th>\n",
       "      <td>0.016357</td>\n",
       "      <td>-0.007237</td>\n",
       "      <td>0.004229</td>\n",
       "      <td>0.004277</td>\n",
       "      <td>1.000000</td>\n",
       "    </tr>\n",
       "  </tbody>\n",
       "</table>\n",
       "</div>"
      ],
      "text/plain": [
       "                 Unnamed: 0      SEXO  G_ETAREO      EDAD  SUM_VLR_DETALLE\n",
       "Unnamed: 0         1.000000 -0.048975 -0.029381 -0.028948         0.016357\n",
       "SEXO              -0.048975  1.000000  0.026371  0.025438        -0.007237\n",
       "G_ETAREO          -0.029381  0.026371  1.000000  0.998149         0.004229\n",
       "EDAD              -0.028948  0.025438  0.998149  1.000000         0.004277\n",
       "SUM_VLR_DETALLE    0.016357 -0.007237  0.004229  0.004277         1.000000"
      ]
     },
     "execution_count": 83,
     "metadata": {},
     "output_type": "execute_result"
    }
   ],
   "source": [
    "df2012.corr(method='pearson')"
   ]
  },
  {
   "cell_type": "code",
   "execution_count": 84,
   "metadata": {
    "collapsed": false
   },
   "outputs": [
    {
     "data": {
      "text/html": [
       "<div>\n",
       "<table border=\"1\" class=\"dataframe\">\n",
       "  <thead>\n",
       "    <tr style=\"text-align: right;\">\n",
       "      <th></th>\n",
       "      <th>Unnamed: 0</th>\n",
       "      <th>SEXO</th>\n",
       "      <th>G_ETAREO</th>\n",
       "      <th>EDAD</th>\n",
       "      <th>SUM_VLR_DETALLE</th>\n",
       "    </tr>\n",
       "  </thead>\n",
       "  <tbody>\n",
       "    <tr>\n",
       "      <th>Unnamed: 0</th>\n",
       "      <td>1.000000</td>\n",
       "      <td>-0.029837</td>\n",
       "      <td>-0.000403</td>\n",
       "      <td>-0.000452</td>\n",
       "      <td>0.000750</td>\n",
       "    </tr>\n",
       "    <tr>\n",
       "      <th>SEXO</th>\n",
       "      <td>-0.029837</td>\n",
       "      <td>1.000000</td>\n",
       "      <td>0.022451</td>\n",
       "      <td>0.021629</td>\n",
       "      <td>-0.000864</td>\n",
       "    </tr>\n",
       "    <tr>\n",
       "      <th>G_ETAREO</th>\n",
       "      <td>-0.000403</td>\n",
       "      <td>0.022451</td>\n",
       "      <td>1.000000</td>\n",
       "      <td>0.998064</td>\n",
       "      <td>-0.001079</td>\n",
       "    </tr>\n",
       "    <tr>\n",
       "      <th>EDAD</th>\n",
       "      <td>-0.000452</td>\n",
       "      <td>0.021629</td>\n",
       "      <td>0.998064</td>\n",
       "      <td>1.000000</td>\n",
       "      <td>-0.001081</td>\n",
       "    </tr>\n",
       "    <tr>\n",
       "      <th>SUM_VLR_DETALLE</th>\n",
       "      <td>0.000750</td>\n",
       "      <td>-0.000864</td>\n",
       "      <td>-0.001079</td>\n",
       "      <td>-0.001081</td>\n",
       "      <td>1.000000</td>\n",
       "    </tr>\n",
       "  </tbody>\n",
       "</table>\n",
       "</div>"
      ],
      "text/plain": [
       "                 Unnamed: 0      SEXO  G_ETAREO      EDAD  SUM_VLR_DETALLE\n",
       "Unnamed: 0         1.000000 -0.029837 -0.000403 -0.000452         0.000750\n",
       "SEXO              -0.029837  1.000000  0.022451  0.021629        -0.000864\n",
       "G_ETAREO          -0.000403  0.022451  1.000000  0.998064        -0.001079\n",
       "EDAD              -0.000452  0.021629  0.998064  1.000000        -0.001081\n",
       "SUM_VLR_DETALLE    0.000750 -0.000864 -0.001079 -0.001081         1.000000"
      ]
     },
     "execution_count": 84,
     "metadata": {},
     "output_type": "execute_result"
    }
   ],
   "source": [
    "df2013.corr(method='pearson')"
   ]
  },
  {
   "cell_type": "code",
   "execution_count": 85,
   "metadata": {
    "collapsed": false
   },
   "outputs": [
    {
     "data": {
      "text/html": [
       "<div>\n",
       "<table border=\"1\" class=\"dataframe\">\n",
       "  <thead>\n",
       "    <tr style=\"text-align: right;\">\n",
       "      <th></th>\n",
       "      <th>Unnamed: 0</th>\n",
       "      <th>SEXO</th>\n",
       "      <th>G_ETAREO</th>\n",
       "      <th>EDAD</th>\n",
       "      <th>SUM_VLR_DETALLE</th>\n",
       "    </tr>\n",
       "  </thead>\n",
       "  <tbody>\n",
       "    <tr>\n",
       "      <th>Unnamed: 0</th>\n",
       "      <td>1.000000</td>\n",
       "      <td>-0.041361</td>\n",
       "      <td>-0.016795</td>\n",
       "      <td>-0.016761</td>\n",
       "      <td>0.014511</td>\n",
       "    </tr>\n",
       "    <tr>\n",
       "      <th>SEXO</th>\n",
       "      <td>-0.041361</td>\n",
       "      <td>1.000000</td>\n",
       "      <td>0.028899</td>\n",
       "      <td>0.027804</td>\n",
       "      <td>-0.008653</td>\n",
       "    </tr>\n",
       "    <tr>\n",
       "      <th>G_ETAREO</th>\n",
       "      <td>-0.016795</td>\n",
       "      <td>0.028899</td>\n",
       "      <td>1.000000</td>\n",
       "      <td>0.998022</td>\n",
       "      <td>0.003001</td>\n",
       "    </tr>\n",
       "    <tr>\n",
       "      <th>EDAD</th>\n",
       "      <td>-0.016761</td>\n",
       "      <td>0.027804</td>\n",
       "      <td>0.998022</td>\n",
       "      <td>1.000000</td>\n",
       "      <td>0.003116</td>\n",
       "    </tr>\n",
       "    <tr>\n",
       "      <th>SUM_VLR_DETALLE</th>\n",
       "      <td>0.014511</td>\n",
       "      <td>-0.008653</td>\n",
       "      <td>0.003001</td>\n",
       "      <td>0.003116</td>\n",
       "      <td>1.000000</td>\n",
       "    </tr>\n",
       "  </tbody>\n",
       "</table>\n",
       "</div>"
      ],
      "text/plain": [
       "                 Unnamed: 0      SEXO  G_ETAREO      EDAD  SUM_VLR_DETALLE\n",
       "Unnamed: 0         1.000000 -0.041361 -0.016795 -0.016761         0.014511\n",
       "SEXO              -0.041361  1.000000  0.028899  0.027804        -0.008653\n",
       "G_ETAREO          -0.016795  0.028899  1.000000  0.998022         0.003001\n",
       "EDAD              -0.016761  0.027804  0.998022  1.000000         0.003116\n",
       "SUM_VLR_DETALLE    0.014511 -0.008653  0.003001  0.003116         1.000000"
      ]
     },
     "execution_count": 85,
     "metadata": {},
     "output_type": "execute_result"
    }
   ],
   "source": [
    "df2014.corr(method='pearson')"
   ]
  },
  {
   "cell_type": "code",
   "execution_count": 86,
   "metadata": {
    "collapsed": false
   },
   "outputs": [
    {
     "data": {
      "text/html": [
       "<div>\n",
       "<table border=\"1\" class=\"dataframe\">\n",
       "  <thead>\n",
       "    <tr style=\"text-align: right;\">\n",
       "      <th></th>\n",
       "      <th>Unnamed: 0.1</th>\n",
       "      <th>SEXO</th>\n",
       "      <th>G_ETAREO</th>\n",
       "      <th>EDAD</th>\n",
       "      <th>SUM_VLR_DETALLE</th>\n",
       "    </tr>\n",
       "  </thead>\n",
       "  <tbody>\n",
       "    <tr>\n",
       "      <th>Unnamed: 0.1</th>\n",
       "      <td>1.000000</td>\n",
       "      <td>-0.002071</td>\n",
       "      <td>-0.047832</td>\n",
       "      <td>-0.047359</td>\n",
       "      <td>0.008703</td>\n",
       "    </tr>\n",
       "    <tr>\n",
       "      <th>SEXO</th>\n",
       "      <td>-0.002071</td>\n",
       "      <td>1.000000</td>\n",
       "      <td>0.007584</td>\n",
       "      <td>0.006009</td>\n",
       "      <td>-0.008592</td>\n",
       "    </tr>\n",
       "    <tr>\n",
       "      <th>G_ETAREO</th>\n",
       "      <td>-0.047832</td>\n",
       "      <td>0.007584</td>\n",
       "      <td>1.000000</td>\n",
       "      <td>0.997543</td>\n",
       "      <td>0.005311</td>\n",
       "    </tr>\n",
       "    <tr>\n",
       "      <th>EDAD</th>\n",
       "      <td>-0.047359</td>\n",
       "      <td>0.006009</td>\n",
       "      <td>0.997543</td>\n",
       "      <td>1.000000</td>\n",
       "      <td>0.005345</td>\n",
       "    </tr>\n",
       "    <tr>\n",
       "      <th>SUM_VLR_DETALLE</th>\n",
       "      <td>0.008703</td>\n",
       "      <td>-0.008592</td>\n",
       "      <td>0.005311</td>\n",
       "      <td>0.005345</td>\n",
       "      <td>1.000000</td>\n",
       "    </tr>\n",
       "  </tbody>\n",
       "</table>\n",
       "</div>"
      ],
      "text/plain": [
       "                 Unnamed: 0.1      SEXO  G_ETAREO      EDAD  SUM_VLR_DETALLE\n",
       "Unnamed: 0.1         1.000000 -0.002071 -0.047832 -0.047359         0.008703\n",
       "SEXO                -0.002071  1.000000  0.007584  0.006009        -0.008592\n",
       "G_ETAREO            -0.047832  0.007584  1.000000  0.997543         0.005311\n",
       "EDAD                -0.047359  0.006009  0.997543  1.000000         0.005345\n",
       "SUM_VLR_DETALLE      0.008703 -0.008592  0.005311  0.005345         1.000000"
      ]
     },
     "execution_count": 86,
     "metadata": {},
     "output_type": "execute_result"
    }
   ],
   "source": [
    "df2015.corr(method='pearson')"
   ]
  },
  {
   "cell_type": "code",
   "execution_count": 88,
   "metadata": {
    "collapsed": false
   },
   "outputs": [
    {
     "data": {
      "text/html": [
       "<div>\n",
       "<table border=\"1\" class=\"dataframe\">\n",
       "  <thead>\n",
       "    <tr style=\"text-align: right;\">\n",
       "      <th></th>\n",
       "      <th>EDAD</th>\n",
       "      <th>G_ETAREO</th>\n",
       "      <th>SEXO</th>\n",
       "      <th>SUM_VLR_DETALLE</th>\n",
       "      <th>Unnamed: 0</th>\n",
       "      <th>Unnamed: 0.1</th>\n",
       "    </tr>\n",
       "  </thead>\n",
       "  <tbody>\n",
       "    <tr>\n",
       "      <th>EDAD</th>\n",
       "      <td>1.000000</td>\n",
       "      <td>0.998030</td>\n",
       "      <td>0.016602</td>\n",
       "      <td>-0.000481</td>\n",
       "      <td>-0.005262</td>\n",
       "      <td>-0.047359</td>\n",
       "    </tr>\n",
       "    <tr>\n",
       "      <th>G_ETAREO</th>\n",
       "      <td>0.998030</td>\n",
       "      <td>1.000000</td>\n",
       "      <td>0.017823</td>\n",
       "      <td>-0.000480</td>\n",
       "      <td>-0.005383</td>\n",
       "      <td>-0.047832</td>\n",
       "    </tr>\n",
       "    <tr>\n",
       "      <th>SEXO</th>\n",
       "      <td>0.016602</td>\n",
       "      <td>0.017823</td>\n",
       "      <td>1.000000</td>\n",
       "      <td>-0.000375</td>\n",
       "      <td>-0.044471</td>\n",
       "      <td>-0.002071</td>\n",
       "    </tr>\n",
       "    <tr>\n",
       "      <th>SUM_VLR_DETALLE</th>\n",
       "      <td>-0.000481</td>\n",
       "      <td>-0.000480</td>\n",
       "      <td>-0.000375</td>\n",
       "      <td>1.000000</td>\n",
       "      <td>0.000312</td>\n",
       "      <td>0.008703</td>\n",
       "    </tr>\n",
       "    <tr>\n",
       "      <th>Unnamed: 0</th>\n",
       "      <td>-0.005262</td>\n",
       "      <td>-0.005383</td>\n",
       "      <td>-0.044471</td>\n",
       "      <td>0.000312</td>\n",
       "      <td>1.000000</td>\n",
       "      <td>NaN</td>\n",
       "    </tr>\n",
       "    <tr>\n",
       "      <th>Unnamed: 0.1</th>\n",
       "      <td>-0.047359</td>\n",
       "      <td>-0.047832</td>\n",
       "      <td>-0.002071</td>\n",
       "      <td>0.008703</td>\n",
       "      <td>NaN</td>\n",
       "      <td>1.000000</td>\n",
       "    </tr>\n",
       "  </tbody>\n",
       "</table>\n",
       "</div>"
      ],
      "text/plain": [
       "                     EDAD  G_ETAREO      SEXO  SUM_VLR_DETALLE  Unnamed: 0  \\\n",
       "EDAD             1.000000  0.998030  0.016602        -0.000481   -0.005262   \n",
       "G_ETAREO         0.998030  1.000000  0.017823        -0.000480   -0.005383   \n",
       "SEXO             0.016602  0.017823  1.000000        -0.000375   -0.044471   \n",
       "SUM_VLR_DETALLE -0.000481 -0.000480 -0.000375         1.000000    0.000312   \n",
       "Unnamed: 0      -0.005262 -0.005383 -0.044471         0.000312    1.000000   \n",
       "Unnamed: 0.1    -0.047359 -0.047832 -0.002071         0.008703         NaN   \n",
       "\n",
       "                 Unnamed: 0.1  \n",
       "EDAD                -0.047359  \n",
       "G_ETAREO            -0.047832  \n",
       "SEXO                -0.002071  \n",
       "SUM_VLR_DETALLE      0.008703  \n",
       "Unnamed: 0                NaN  \n",
       "Unnamed: 0.1         1.000000  "
      ]
     },
     "execution_count": 88,
     "metadata": {},
     "output_type": "execute_result"
    }
   ],
   "source": [
    "df_full.corr(method='pearson')"
   ]
  },
  {
   "cell_type": "code",
   "execution_count": 87,
   "metadata": {
    "collapsed": false
   },
   "outputs": [
    {
     "name": "stdout",
     "output_type": "stream",
     "text": [
      "EDAD\n",
      "[ 62   7  68   8  66  67  32  12  26  75  65  47  19  57  60  61  71  51\n",
      "  73  36  56  82  69   9  29  86  27  41  34  23   3  15   5  16  63  88\n",
      "  55  21  98  48   6  11  44  83  90  17   2  94  79  40  64  39  14  10\n",
      "  84  85  43  24  37  54   4  35  78   1  81  92  18  13  59  28  52  46\n",
      "  70  58  80  53  74  87  50  89  76  25  22  77  49  95  20  33  31  72\n",
      "  97  30  42  45  93  91  38 102  99  96 100 103 101 104] 104\n",
      "[  5  65  23  57  58  15  63  92  11  12  36   6  69  41  64  66  82  60\n",
      "  91  44  30   7   4  51  21  47  25  75   8  74  79  83  61  71  43  33\n",
      "  55  19  29  39  17  27  90   2  98  26   3  40  81  86  10  56  62  34\n",
      "  80  48  73  46   1  85  94  84   9  35  68  50  53  38  37  59  24  54\n",
      "  88  72  18  97  78  67  20  52  45  77  76  99  14  32  16  22  42  28\n",
      "  49  87  70  89  13  31  96  93 103  95 102 101 100 104] 104\n",
      "[  94.   35.    8.   65.   32.   53.    6.   82.   45.   15.   44.    1.\n",
      "    4.   30.   64.   14.   91.   96.   41.   29.   48.   43.    5.   72.\n",
      "   70.   11.   57.   52.   81.   66.    2.   23.   58.   85.   88.   74.\n",
      "   67.   87.   26.   19.   27.   63.   61.   28.   59.   62.   69.    7.\n",
      "   10.   76.   55.   38.   54.   80.   36.   77.   84.   92.   37.    3.\n",
      "   21.   16.   34.    9.   56.   99.   49.   12.   68.   33.   79.   71.\n",
      "   73.   60.   51.   13.   31.   18.   95.   25.   83.   78.   93.   24.\n",
      "   22.   46.   86.   98.   75.   39.   50.   89.   17.   47.   20.   90.\n",
      "   40.   42.   97.  101.  100.  105.  102.  104.  103.] 105\n",
      "[ 61   6  33  72  58  54  27  67  71  70  23  66  10  25  53  26  65  36\n",
      "  19  45  22   9  52  34  60  11  44   5  29  63  13  59  14  38  73  62\n",
      "  18   7  64  32  74  35  24  16   8  43  68  50  21  57  49  46  51  69\n",
      "  56  55  48  41  42  31  17   4  20  30  47  12  15  37  40  39  28   3\n",
      "   2   1   0  82  84  77  94  81  88  99  85  91  76  96  80  87  78  75\n",
      "  83  79  86  89  90  97  93 105 100  92  95  98 102 101 103] 105\n",
      "\n",
      "\n",
      "SEXO\n",
      "[0 1] 2\n",
      "[1 0] 2\n",
      "[ 0.  1.] 2\n",
      "[1 0] 2\n",
      "GRUPO\n",
      "[ 12.   1.  13.   6.   2.   5.  15.   9.   3.  11.  14.  10.   7.  16.  17.\n",
      "   8.   4.   0.  19.  18.  20.] 21\n",
      "[  1.  13.   4.  11.   3.  12.  18.   2.   7.   8.  16.   6.   0.  10.   9.\n",
      "   5.  15.  14.  19.  17.  20.] 21\n",
      "[ 18.   7.   1.  13.   6.  10.  16.   9.   3.   8.   0.  12.   2.  19.   5.\n",
      "  14.  11.   4.  17.  15.  20.] 21\n",
      "[ 12.   1.   6.  14.  11.  10.   5.  13.   4.   2.   7.   3.   9.   0.   8.\n",
      "  16.  15.  18.  17.  19.  20.] 21\n"
     ]
    }
   ],
   "source": [
    "\n",
    "print \"EDAD\"\n",
    "print df2012.EDAD.unique(), len(df2012.EDAD.unique())\n",
    "print df2013.EDAD.unique(), len(df2013.EDAD.unique())\n",
    "print df2014.EDAD.unique(), len(df2014.EDAD.unique())\n",
    "print df2015.EDAD.unique(), len(df2015.EDAD.unique()) #edad es numero \n",
    "print  \"\\n\"\n",
    "print \"SEXO\"\n",
    "print df2012.SEXO.unique(), len(df2012.SEXO.unique())\n",
    "print df2013.SEXO.unique(), len(df2013.SEXO.unique())\n",
    "print df2014.SEXO.unique(), len(df2014.SEXO.unique())\n",
    "print df2015.SEXO.unique(), len(df2015.SEXO.unique())\n",
    "\n",
    "print \"GRUPO\"\n",
    "print df2012.G_ETAREO.unique(), len(df2012.G_ETAREO.unique())\n",
    "print df2013.G_ETAREO.unique(), len(df2013.G_ETAREO.unique())\n",
    "print df2014.G_ETAREO.unique(), len(df2014.G_ETAREO.unique())\n",
    "print df2015.G_ETAREO.unique(), len(df2015.G_ETAREO.unique())\n",
    "\n",
    "#edad es numero , sexo.\n",
    "#ojo mexcla de cadenas y numeros en 2015"
   ]
  },
  {
   "cell_type": "code",
   "execution_count": null,
   "metadata": {
    "collapsed": true
   },
   "outputs": [],
   "source": []
  }
 ],
 "metadata": {
  "kernelspec": {
   "display_name": "Python 2",
   "language": "python",
   "name": "python2"
  },
  "language_info": {
   "codemirror_mode": {
    "name": "ipython",
    "version": 2
   },
   "file_extension": ".py",
   "mimetype": "text/x-python",
   "name": "python",
   "nbconvert_exporter": "python",
   "pygments_lexer": "ipython2",
   "version": "2.7.13"
  }
 },
 "nbformat": 4,
 "nbformat_minor": 2
}
