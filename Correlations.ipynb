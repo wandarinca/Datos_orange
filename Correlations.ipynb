{
 "cells": [
  {
   "cell_type": "code",
   "execution_count": 1,
   "metadata": {
    "collapsed": true
   },
   "outputs": [],
   "source": [
    "import pandas as pd\n",
    "import numpy as np\n",
    "import time\n",
    "import matplotlib.pyplot as plt\n",
    "import plotly.plotly as py\n",
    "%matplotlib inline"
   ]
  },
  {
   "cell_type": "markdown",
   "metadata": {},
   "source": [
    "# Load Data"
   ]
  },
  {
   "cell_type": "code",
   "execution_count": 2,
   "metadata": {
    "collapsed": false
   },
   "outputs": [
    {
     "name": "stdout",
     "output_type": "stream",
     "text": [
      "0:00:01\n",
      "Index([u'Unnamed: 0', u'FECHA_RECEPC', u'SEXO', u'G_ETAREO', u'EDAD',\n",
      "       u'FECHA_PRESTACION_SERVICIO', u'SUM_VLR_DETALLE'],\n",
      "      dtype='object') (1553023, 7)\n"
     ]
    }
   ],
   "source": [
    "start = time.time()\n",
    "df2010 = pd.read_csv(\"2010.csv\")\n",
    "time_loading = time.time()-start\n",
    "m, s = divmod(time_loading, 60)\n",
    "h, m = divmod(m, 60)\n",
    "print( \"%d:%02d:%02d\" % (h, m, s))\n",
    "print df2010.columns, df2010.shape"
   ]
  },
  {
   "cell_type": "code",
   "execution_count": 3,
   "metadata": {
    "collapsed": false
   },
   "outputs": [
    {
     "name": "stdout",
     "output_type": "stream",
     "text": [
      "0:00:01\n",
      "Index([u'Unnamed: 0', u'FECHA_RECEPC', u'SEXO', u'G_ETAREO', u'EDAD',\n",
      "       u'FECHA_PRESTACION_SERVICIO', u'SUM_VLR_DETALLE'],\n",
      "      dtype='object') (1894051, 7)\n"
     ]
    }
   ],
   "source": [
    "start = time.time()\n",
    "df2011 = pd.read_csv(\"2011.csv\")\n",
    "time_loading = time.time()-start\n",
    "m, s = divmod(time_loading, 60)\n",
    "h, m = divmod(m, 60)\n",
    "print( \"%d:%02d:%02d\" % (h, m, s))\n",
    "print df2011.columns, df2011.shape"
   ]
  },
  {
   "cell_type": "code",
   "execution_count": 4,
   "metadata": {
    "collapsed": false
   },
   "outputs": [
    {
     "name": "stdout",
     "output_type": "stream",
     "text": [
      "0:00:01\n",
      "Index([u'Unnamed: 0', u'FECHA_RECEPC', u'SEXO', u'G_ETAREO', u'EDAD',\n",
      "       u'FECHA_PRESTACION_SERVICIO', u'SUM_VLR_DETALLE'],\n",
      "      dtype='object') (1981634, 7)\n"
     ]
    }
   ],
   "source": [
    "start = time.time()\n",
    "df2012 = pd.read_csv(\"2012.csv\")\n",
    "time_loading = time.time()-start\n",
    "m, s = divmod(time_loading, 60)\n",
    "h, m = divmod(m, 60)\n",
    "print( \"%d:%02d:%02d\" % (h, m, s))\n",
    "print df2012.columns, df2012.shape"
   ]
  },
  {
   "cell_type": "code",
   "execution_count": 5,
   "metadata": {
    "collapsed": false
   },
   "outputs": [
    {
     "name": "stdout",
     "output_type": "stream",
     "text": [
      "0:00:01\n",
      "Index([u'Unnamed: 0', u'FECHA_RECEPC', u'SEXO', u'G_ETAREO', u'EDAD',\n",
      "       u'FECHA_PRESTACION_SERVICIO', u'SUM_VLR_DETALLE'],\n",
      "      dtype='object') (2014307, 7)\n"
     ]
    }
   ],
   "source": [
    "start = time.time()\n",
    "df2013 = pd.read_csv(\"2013.csv\")\n",
    "time_loading = time.time()-start\n",
    "m, s = divmod(time_loading, 60)\n",
    "h, m = divmod(m, 60)\n",
    "print( \"%d:%02d:%02d\" % (h, m, s))\n",
    "print df2013.columns, df2013.shape"
   ]
  },
  {
   "cell_type": "code",
   "execution_count": 6,
   "metadata": {
    "collapsed": false
   },
   "outputs": [
    {
     "name": "stdout",
     "output_type": "stream",
     "text": [
      "0:00:01\n",
      "Index([u'Unnamed: 0', u'FECHA_RECEPC', u'SEXO', u'G_ETAREO', u'EDAD',\n",
      "       u'FECHA_PRESTACION_SERVICIO', u'SUM_VLR_DETALLE'],\n",
      "      dtype='object') (2222775, 7)\n"
     ]
    }
   ],
   "source": [
    "start = time.time()\n",
    "df2014 = pd.read_csv(\"2014.csv\")\n",
    "time_loading = time.time()-start\n",
    "m, s = divmod(time_loading, 60)\n",
    "h, m = divmod(m, 60)\n",
    "print( \"%d:%02d:%02d\" % (h, m, s))\n",
    "print df2014.columns, df2014.shape"
   ]
  },
  {
   "cell_type": "code",
   "execution_count": 7,
   "metadata": {
    "collapsed": false
   },
   "outputs": [
    {
     "name": "stdout",
     "output_type": "stream",
     "text": [
      "0:00:01\n",
      "Index([u'Unnamed: 0.1', u'FECHA_RECEPC', u'SEXO', u'G_ETAREO', u'EDAD',\n",
      "       u'FECHA_PRESTACION_SERVICIO', u'SUM_VLR_DETALLE'],\n",
      "      dtype='object') (1215099, 7)\n"
     ]
    }
   ],
   "source": [
    "start = time.time()\n",
    "df2015 = pd.read_csv(\"2015.csv\", index_col=0)\n",
    "time_loading = time.time()-start\n",
    "m, s = divmod(time_loading, 60)\n",
    "h, m = divmod(m, 60)\n",
    "print( \"%d:%02d:%02d\" % (h, m, s))\n",
    "print df2015.columns, df2015.shape"
   ]
  },
  {
   "cell_type": "markdown",
   "metadata": {},
   "source": [
    "**Nota:** El tiempo disminuyó para la lectura de datos. Total leyendo todos los años: 11 a 13 segundos. En comparación con la lectura de un sólo excel que tardaba en promedio 3 minutos."
   ]
  },
  {
   "cell_type": "markdown",
   "metadata": {
    "collapsed": true
   },
   "source": [
    "frames = [df2010,df2011,df2012,df2013,df2014,df2015]\n",
    "df_full = pd.concat(frames)\n",
    "df_full.shape #9 millones de registros de datos\n",
    "df_full.to_csv(\"datos_todo.csv\")"
   ]
  },
  {
   "cell_type": "code",
   "execution_count": 8,
   "metadata": {
    "collapsed": false
   },
   "outputs": [
    {
     "name": "stdout",
     "output_type": "stream",
     "text": [
      "0:00:10\n",
      "Index([u'Unnamed: 0', u'EDAD', u'FECHA_PRESTACION_SERVICIO', u'FECHA_RECEPC',\n",
      "       u'G_ETAREO', u'SEXO', u'SUM_VLR_DETALLE', u'Unnamed: 0.1',\n",
      "       u'Unnamed: 0.1.1'],\n",
      "      dtype='object')\n"
     ]
    }
   ],
   "source": [
    "start = time.time()\n",
    "df_full = pd.read_csv(\"datos_todo.csv\")\n",
    "time_loading = time.time()-start\n",
    "m, s = divmod(time_loading, 60)\n",
    "h, m = divmod(m, 60)\n",
    "print( \"%d:%02d:%02d\" % (h, m, s))\n",
    "print df_full.columns "
   ]
  },
  {
   "cell_type": "code",
   "execution_count": 9,
   "metadata": {
    "collapsed": false
   },
   "outputs": [
    {
     "name": "stdout",
     "output_type": "stream",
     "text": [
      "(10880889, 9)\n"
     ]
    }
   ],
   "source": [
    "print df_full.shape"
   ]
  },
  {
   "cell_type": "code",
   "execution_count": 10,
   "metadata": {
    "collapsed": true
   },
   "outputs": [],
   "source": [
    "df_full = df_full[['EDAD', 'FECHA_PRESTACION_SERVICIO', 'FECHA_RECEPC','G_ETAREO', 'SEXO', 'SUM_VLR_DETALLE']]"
   ]
  },
  {
   "cell_type": "code",
   "execution_count": 11,
   "metadata": {
    "collapsed": false
   },
   "outputs": [
    {
     "name": "stdout",
     "output_type": "stream",
     "text": [
      "[0.0, 1.0, 2.0, 3.0, 4.0, 5.0, 6.0, 7.0, 8.0, 9.0, 10.0, 11.0, 12.0, 13.0, 14.0, 15.0, 16.0, 17.0, 18.0, 19.0, 20.0]\n",
      "[0.0, 1.0, 2.0, 3.0, 4.0, 5.0, 6.0, 7.0, 8.0, 9.0, 10.0, 11.0, 12.0, 13.0, 14.0, 15.0, 16.0, 17.0, 18.0, 19.0, 20.0, 21.0, 22.0, 23.0, 24.0, 25.0, 26.0, 27.0, 28.0, 29.0, 30.0, 31.0, 32.0, 33.0, 34.0, 35.0, 36.0, 37.0, 38.0, 39.0, 40.0, 41.0, 42.0, 43.0, 44.0, 45.0, 46.0, 47.0, 48.0, 49.0, 50.0, 51.0, 52.0, 53.0, 54.0, 55.0, 56.0, 57.0, 58.0, 59.0, 60.0, 61.0, 62.0, 63.0, 64.0, 65.0, 66.0, 67.0, 68.0, 69.0, 70.0, 71.0, 72.0, 73.0, 74.0, 75.0, 76.0, 77.0, 78.0, 79.0, 80.0, 81.0, 82.0, 83.0, 84.0, 85.0, 86.0, 87.0, 88.0, 89.0, 90.0, 91.0, 92.0, 93.0, 94.0, 95.0, 96.0, 97.0, 98.0, 99.0, 100.0, 101.0, 102.0, 103.0, 104.0, 105.0]\n",
      "[0.0, 1.0]\n"
     ]
    }
   ],
   "source": [
    "print sorted(df_full.G_ETAREO.unique())\n",
    "print sorted(df_full.EDAD.unique())\n",
    "print sorted(df_full.SEXO.unique())"
   ]
  },
  {
   "cell_type": "code",
   "execution_count": 12,
   "metadata": {
    "collapsed": false
   },
   "outputs": [
    {
     "data": {
      "text/html": [
       "<div>\n",
       "<table border=\"1\" class=\"dataframe\">\n",
       "  <thead>\n",
       "    <tr style=\"text-align: right;\">\n",
       "      <th></th>\n",
       "      <th>EDAD</th>\n",
       "      <th>FECHA_PRESTACION_SERVICIO</th>\n",
       "      <th>FECHA_RECEPC</th>\n",
       "      <th>G_ETAREO</th>\n",
       "      <th>SEXO</th>\n",
       "      <th>SUM_VLR_DETALLE</th>\n",
       "    </tr>\n",
       "  </thead>\n",
       "  <tbody>\n",
       "    <tr>\n",
       "      <th>0</th>\n",
       "      <td>94.0</td>\n",
       "      <td>2010-07-01</td>\n",
       "      <td>2010-07-22</td>\n",
       "      <td>18.0</td>\n",
       "      <td>1.0</td>\n",
       "      <td>62000.0</td>\n",
       "    </tr>\n",
       "    <tr>\n",
       "      <th>1</th>\n",
       "      <td>88.0</td>\n",
       "      <td>2010-06-26</td>\n",
       "      <td>2010-07-22</td>\n",
       "      <td>17.0</td>\n",
       "      <td>0.0</td>\n",
       "      <td>43000.0</td>\n",
       "    </tr>\n",
       "    <tr>\n",
       "      <th>2</th>\n",
       "      <td>88.0</td>\n",
       "      <td>2010-06-26</td>\n",
       "      <td>2010-07-22</td>\n",
       "      <td>17.0</td>\n",
       "      <td>0.0</td>\n",
       "      <td>36000.0</td>\n",
       "    </tr>\n",
       "    <tr>\n",
       "      <th>3</th>\n",
       "      <td>88.0</td>\n",
       "      <td>2010-06-26</td>\n",
       "      <td>2010-07-22</td>\n",
       "      <td>17.0</td>\n",
       "      <td>0.0</td>\n",
       "      <td>10400.0</td>\n",
       "    </tr>\n",
       "    <tr>\n",
       "      <th>4</th>\n",
       "      <td>88.0</td>\n",
       "      <td>2010-06-26</td>\n",
       "      <td>2010-07-22</td>\n",
       "      <td>17.0</td>\n",
       "      <td>0.0</td>\n",
       "      <td>6100.0</td>\n",
       "    </tr>\n",
       "  </tbody>\n",
       "</table>\n",
       "</div>"
      ],
      "text/plain": [
       "   EDAD FECHA_PRESTACION_SERVICIO FECHA_RECEPC  G_ETAREO  SEXO  \\\n",
       "0  94.0                2010-07-01   2010-07-22      18.0   1.0   \n",
       "1  88.0                2010-06-26   2010-07-22      17.0   0.0   \n",
       "2  88.0                2010-06-26   2010-07-22      17.0   0.0   \n",
       "3  88.0                2010-06-26   2010-07-22      17.0   0.0   \n",
       "4  88.0                2010-06-26   2010-07-22      17.0   0.0   \n",
       "\n",
       "   SUM_VLR_DETALLE  \n",
       "0          62000.0  \n",
       "1          43000.0  \n",
       "2          36000.0  \n",
       "3          10400.0  \n",
       "4           6100.0  "
      ]
     },
     "execution_count": 12,
     "metadata": {},
     "output_type": "execute_result"
    }
   ],
   "source": [
    "df_full.head()"
   ]
  },
  {
   "cell_type": "markdown",
   "metadata": {},
   "source": [
    "# Correlación  Coeficiente de Pearson \n",
    "\n",
    "Es una medida de la relación lineal entre dos variables aleatorias cuantitativas. A diferencia de la covarianza, la correlación de Pearson es independiente de la escala de medida de las variables.\n",
    "\n",
    "- 1) Encontrar correlacion entre grupo etáreo y la suma del valor.\n",
    "- 2) Edad y suma del valor.\n",
    "- 3) Sexo y suma del valor.\n",
    "- 4) Tipo de servicio y suma del valor (?)\n",
    "- 5) Regresión en 1)"
   ]
  },
  {
   "cell_type": "markdown",
   "metadata": {},
   "source": [
    "**Columnas cuantitativas: **  EDAD, SUM_VLR_DETALLE, SUM_VLR_IVA\n",
    "\n",
    "**Categóricas: ** SEXO, G_ETAREO\n",
    "\n",
    "**OTROS: ** CIUDADES Y FECHAS, TIPO DE SERVICIO"
   ]
  },
  {
   "cell_type": "code",
   "execution_count": 13,
   "metadata": {
    "collapsed": false
   },
   "outputs": [
    {
     "data": {
      "text/html": [
       "<div>\n",
       "<table border=\"1\" class=\"dataframe\">\n",
       "  <thead>\n",
       "    <tr style=\"text-align: right;\">\n",
       "      <th></th>\n",
       "      <th>Unnamed: 0</th>\n",
       "      <th>SEXO</th>\n",
       "      <th>G_ETAREO</th>\n",
       "      <th>EDAD</th>\n",
       "      <th>SUM_VLR_DETALLE</th>\n",
       "    </tr>\n",
       "  </thead>\n",
       "  <tbody>\n",
       "    <tr>\n",
       "      <th>Unnamed: 0</th>\n",
       "      <td>1.000000</td>\n",
       "      <td>-0.060302</td>\n",
       "      <td>0.029972</td>\n",
       "      <td>0.029720</td>\n",
       "      <td>0.006604</td>\n",
       "    </tr>\n",
       "    <tr>\n",
       "      <th>SEXO</th>\n",
       "      <td>-0.060302</td>\n",
       "      <td>1.000000</td>\n",
       "      <td>0.001138</td>\n",
       "      <td>-0.000286</td>\n",
       "      <td>-0.004736</td>\n",
       "    </tr>\n",
       "    <tr>\n",
       "      <th>G_ETAREO</th>\n",
       "      <td>0.029972</td>\n",
       "      <td>0.001138</td>\n",
       "      <td>1.000000</td>\n",
       "      <td>0.998051</td>\n",
       "      <td>0.001271</td>\n",
       "    </tr>\n",
       "    <tr>\n",
       "      <th>EDAD</th>\n",
       "      <td>0.029720</td>\n",
       "      <td>-0.000286</td>\n",
       "      <td>0.998051</td>\n",
       "      <td>1.000000</td>\n",
       "      <td>0.001324</td>\n",
       "    </tr>\n",
       "    <tr>\n",
       "      <th>SUM_VLR_DETALLE</th>\n",
       "      <td>0.006604</td>\n",
       "      <td>-0.004736</td>\n",
       "      <td>0.001271</td>\n",
       "      <td>0.001324</td>\n",
       "      <td>1.000000</td>\n",
       "    </tr>\n",
       "  </tbody>\n",
       "</table>\n",
       "</div>"
      ],
      "text/plain": [
       "                 Unnamed: 0      SEXO  G_ETAREO      EDAD  SUM_VLR_DETALLE\n",
       "Unnamed: 0         1.000000 -0.060302  0.029972  0.029720         0.006604\n",
       "SEXO              -0.060302  1.000000  0.001138 -0.000286        -0.004736\n",
       "G_ETAREO           0.029972  0.001138  1.000000  0.998051         0.001271\n",
       "EDAD               0.029720 -0.000286  0.998051  1.000000         0.001324\n",
       "SUM_VLR_DETALLE    0.006604 -0.004736  0.001271  0.001324         1.000000"
      ]
     },
     "execution_count": 13,
     "metadata": {},
     "output_type": "execute_result"
    }
   ],
   "source": [
    "df2010.corr(method='pearson')"
   ]
  },
  {
   "cell_type": "code",
   "execution_count": 14,
   "metadata": {
    "collapsed": false
   },
   "outputs": [
    {
     "data": {
      "text/html": [
       "<div>\n",
       "<table border=\"1\" class=\"dataframe\">\n",
       "  <thead>\n",
       "    <tr style=\"text-align: right;\">\n",
       "      <th></th>\n",
       "      <th>Unnamed: 0</th>\n",
       "      <th>SEXO</th>\n",
       "      <th>G_ETAREO</th>\n",
       "      <th>EDAD</th>\n",
       "      <th>SUM_VLR_DETALLE</th>\n",
       "    </tr>\n",
       "  </thead>\n",
       "  <tbody>\n",
       "    <tr>\n",
       "      <th>Unnamed: 0</th>\n",
       "      <td>1.000000</td>\n",
       "      <td>-0.050472</td>\n",
       "      <td>-0.022590</td>\n",
       "      <td>-0.022497</td>\n",
       "      <td>0.003914</td>\n",
       "    </tr>\n",
       "    <tr>\n",
       "      <th>SEXO</th>\n",
       "      <td>-0.050472</td>\n",
       "      <td>1.000000</td>\n",
       "      <td>0.013420</td>\n",
       "      <td>0.011647</td>\n",
       "      <td>-0.003384</td>\n",
       "    </tr>\n",
       "    <tr>\n",
       "      <th>G_ETAREO</th>\n",
       "      <td>-0.022590</td>\n",
       "      <td>0.013420</td>\n",
       "      <td>1.000000</td>\n",
       "      <td>0.998096</td>\n",
       "      <td>-0.000706</td>\n",
       "    </tr>\n",
       "    <tr>\n",
       "      <th>EDAD</th>\n",
       "      <td>-0.022497</td>\n",
       "      <td>0.011647</td>\n",
       "      <td>0.998096</td>\n",
       "      <td>1.000000</td>\n",
       "      <td>-0.000627</td>\n",
       "    </tr>\n",
       "    <tr>\n",
       "      <th>SUM_VLR_DETALLE</th>\n",
       "      <td>0.003914</td>\n",
       "      <td>-0.003384</td>\n",
       "      <td>-0.000706</td>\n",
       "      <td>-0.000627</td>\n",
       "      <td>1.000000</td>\n",
       "    </tr>\n",
       "  </tbody>\n",
       "</table>\n",
       "</div>"
      ],
      "text/plain": [
       "                 Unnamed: 0      SEXO  G_ETAREO      EDAD  SUM_VLR_DETALLE\n",
       "Unnamed: 0         1.000000 -0.050472 -0.022590 -0.022497         0.003914\n",
       "SEXO              -0.050472  1.000000  0.013420  0.011647        -0.003384\n",
       "G_ETAREO          -0.022590  0.013420  1.000000  0.998096        -0.000706\n",
       "EDAD              -0.022497  0.011647  0.998096  1.000000        -0.000627\n",
       "SUM_VLR_DETALLE    0.003914 -0.003384 -0.000706 -0.000627         1.000000"
      ]
     },
     "execution_count": 14,
     "metadata": {},
     "output_type": "execute_result"
    }
   ],
   "source": [
    "df2011.corr(method='pearson')"
   ]
  },
  {
   "cell_type": "code",
   "execution_count": 15,
   "metadata": {
    "collapsed": false
   },
   "outputs": [
    {
     "data": {
      "text/html": [
       "<div>\n",
       "<table border=\"1\" class=\"dataframe\">\n",
       "  <thead>\n",
       "    <tr style=\"text-align: right;\">\n",
       "      <th></th>\n",
       "      <th>Unnamed: 0</th>\n",
       "      <th>SEXO</th>\n",
       "      <th>G_ETAREO</th>\n",
       "      <th>EDAD</th>\n",
       "      <th>SUM_VLR_DETALLE</th>\n",
       "    </tr>\n",
       "  </thead>\n",
       "  <tbody>\n",
       "    <tr>\n",
       "      <th>Unnamed: 0</th>\n",
       "      <td>1.000000</td>\n",
       "      <td>-0.048975</td>\n",
       "      <td>-0.029381</td>\n",
       "      <td>-0.028948</td>\n",
       "      <td>0.016357</td>\n",
       "    </tr>\n",
       "    <tr>\n",
       "      <th>SEXO</th>\n",
       "      <td>-0.048975</td>\n",
       "      <td>1.000000</td>\n",
       "      <td>0.026371</td>\n",
       "      <td>0.025438</td>\n",
       "      <td>-0.007237</td>\n",
       "    </tr>\n",
       "    <tr>\n",
       "      <th>G_ETAREO</th>\n",
       "      <td>-0.029381</td>\n",
       "      <td>0.026371</td>\n",
       "      <td>1.000000</td>\n",
       "      <td>0.998149</td>\n",
       "      <td>0.004229</td>\n",
       "    </tr>\n",
       "    <tr>\n",
       "      <th>EDAD</th>\n",
       "      <td>-0.028948</td>\n",
       "      <td>0.025438</td>\n",
       "      <td>0.998149</td>\n",
       "      <td>1.000000</td>\n",
       "      <td>0.004277</td>\n",
       "    </tr>\n",
       "    <tr>\n",
       "      <th>SUM_VLR_DETALLE</th>\n",
       "      <td>0.016357</td>\n",
       "      <td>-0.007237</td>\n",
       "      <td>0.004229</td>\n",
       "      <td>0.004277</td>\n",
       "      <td>1.000000</td>\n",
       "    </tr>\n",
       "  </tbody>\n",
       "</table>\n",
       "</div>"
      ],
      "text/plain": [
       "                 Unnamed: 0      SEXO  G_ETAREO      EDAD  SUM_VLR_DETALLE\n",
       "Unnamed: 0         1.000000 -0.048975 -0.029381 -0.028948         0.016357\n",
       "SEXO              -0.048975  1.000000  0.026371  0.025438        -0.007237\n",
       "G_ETAREO          -0.029381  0.026371  1.000000  0.998149         0.004229\n",
       "EDAD              -0.028948  0.025438  0.998149  1.000000         0.004277\n",
       "SUM_VLR_DETALLE    0.016357 -0.007237  0.004229  0.004277         1.000000"
      ]
     },
     "execution_count": 15,
     "metadata": {},
     "output_type": "execute_result"
    }
   ],
   "source": [
    "df2012.corr(method='pearson')"
   ]
  },
  {
   "cell_type": "code",
   "execution_count": 16,
   "metadata": {
    "collapsed": false
   },
   "outputs": [
    {
     "data": {
      "text/html": [
       "<div>\n",
       "<table border=\"1\" class=\"dataframe\">\n",
       "  <thead>\n",
       "    <tr style=\"text-align: right;\">\n",
       "      <th></th>\n",
       "      <th>Unnamed: 0</th>\n",
       "      <th>SEXO</th>\n",
       "      <th>G_ETAREO</th>\n",
       "      <th>EDAD</th>\n",
       "      <th>SUM_VLR_DETALLE</th>\n",
       "    </tr>\n",
       "  </thead>\n",
       "  <tbody>\n",
       "    <tr>\n",
       "      <th>Unnamed: 0</th>\n",
       "      <td>1.000000</td>\n",
       "      <td>-0.029837</td>\n",
       "      <td>-0.000403</td>\n",
       "      <td>-0.000452</td>\n",
       "      <td>0.000750</td>\n",
       "    </tr>\n",
       "    <tr>\n",
       "      <th>SEXO</th>\n",
       "      <td>-0.029837</td>\n",
       "      <td>1.000000</td>\n",
       "      <td>0.022451</td>\n",
       "      <td>0.021629</td>\n",
       "      <td>-0.000864</td>\n",
       "    </tr>\n",
       "    <tr>\n",
       "      <th>G_ETAREO</th>\n",
       "      <td>-0.000403</td>\n",
       "      <td>0.022451</td>\n",
       "      <td>1.000000</td>\n",
       "      <td>0.998064</td>\n",
       "      <td>-0.001079</td>\n",
       "    </tr>\n",
       "    <tr>\n",
       "      <th>EDAD</th>\n",
       "      <td>-0.000452</td>\n",
       "      <td>0.021629</td>\n",
       "      <td>0.998064</td>\n",
       "      <td>1.000000</td>\n",
       "      <td>-0.001081</td>\n",
       "    </tr>\n",
       "    <tr>\n",
       "      <th>SUM_VLR_DETALLE</th>\n",
       "      <td>0.000750</td>\n",
       "      <td>-0.000864</td>\n",
       "      <td>-0.001079</td>\n",
       "      <td>-0.001081</td>\n",
       "      <td>1.000000</td>\n",
       "    </tr>\n",
       "  </tbody>\n",
       "</table>\n",
       "</div>"
      ],
      "text/plain": [
       "                 Unnamed: 0      SEXO  G_ETAREO      EDAD  SUM_VLR_DETALLE\n",
       "Unnamed: 0         1.000000 -0.029837 -0.000403 -0.000452         0.000750\n",
       "SEXO              -0.029837  1.000000  0.022451  0.021629        -0.000864\n",
       "G_ETAREO          -0.000403  0.022451  1.000000  0.998064        -0.001079\n",
       "EDAD              -0.000452  0.021629  0.998064  1.000000        -0.001081\n",
       "SUM_VLR_DETALLE    0.000750 -0.000864 -0.001079 -0.001081         1.000000"
      ]
     },
     "execution_count": 16,
     "metadata": {},
     "output_type": "execute_result"
    }
   ],
   "source": [
    "df2013.corr(method='pearson')"
   ]
  },
  {
   "cell_type": "code",
   "execution_count": 17,
   "metadata": {
    "collapsed": false
   },
   "outputs": [
    {
     "data": {
      "text/html": [
       "<div>\n",
       "<table border=\"1\" class=\"dataframe\">\n",
       "  <thead>\n",
       "    <tr style=\"text-align: right;\">\n",
       "      <th></th>\n",
       "      <th>Unnamed: 0</th>\n",
       "      <th>SEXO</th>\n",
       "      <th>G_ETAREO</th>\n",
       "      <th>EDAD</th>\n",
       "      <th>SUM_VLR_DETALLE</th>\n",
       "    </tr>\n",
       "  </thead>\n",
       "  <tbody>\n",
       "    <tr>\n",
       "      <th>Unnamed: 0</th>\n",
       "      <td>1.000000</td>\n",
       "      <td>-0.041361</td>\n",
       "      <td>-0.016795</td>\n",
       "      <td>-0.016761</td>\n",
       "      <td>0.014511</td>\n",
       "    </tr>\n",
       "    <tr>\n",
       "      <th>SEXO</th>\n",
       "      <td>-0.041361</td>\n",
       "      <td>1.000000</td>\n",
       "      <td>0.028899</td>\n",
       "      <td>0.027804</td>\n",
       "      <td>-0.008653</td>\n",
       "    </tr>\n",
       "    <tr>\n",
       "      <th>G_ETAREO</th>\n",
       "      <td>-0.016795</td>\n",
       "      <td>0.028899</td>\n",
       "      <td>1.000000</td>\n",
       "      <td>0.998022</td>\n",
       "      <td>0.003001</td>\n",
       "    </tr>\n",
       "    <tr>\n",
       "      <th>EDAD</th>\n",
       "      <td>-0.016761</td>\n",
       "      <td>0.027804</td>\n",
       "      <td>0.998022</td>\n",
       "      <td>1.000000</td>\n",
       "      <td>0.003116</td>\n",
       "    </tr>\n",
       "    <tr>\n",
       "      <th>SUM_VLR_DETALLE</th>\n",
       "      <td>0.014511</td>\n",
       "      <td>-0.008653</td>\n",
       "      <td>0.003001</td>\n",
       "      <td>0.003116</td>\n",
       "      <td>1.000000</td>\n",
       "    </tr>\n",
       "  </tbody>\n",
       "</table>\n",
       "</div>"
      ],
      "text/plain": [
       "                 Unnamed: 0      SEXO  G_ETAREO      EDAD  SUM_VLR_DETALLE\n",
       "Unnamed: 0         1.000000 -0.041361 -0.016795 -0.016761         0.014511\n",
       "SEXO              -0.041361  1.000000  0.028899  0.027804        -0.008653\n",
       "G_ETAREO          -0.016795  0.028899  1.000000  0.998022         0.003001\n",
       "EDAD              -0.016761  0.027804  0.998022  1.000000         0.003116\n",
       "SUM_VLR_DETALLE    0.014511 -0.008653  0.003001  0.003116         1.000000"
      ]
     },
     "execution_count": 17,
     "metadata": {},
     "output_type": "execute_result"
    }
   ],
   "source": [
    "df2014.corr(method='pearson')"
   ]
  },
  {
   "cell_type": "code",
   "execution_count": 18,
   "metadata": {
    "collapsed": false
   },
   "outputs": [
    {
     "data": {
      "text/html": [
       "<div>\n",
       "<table border=\"1\" class=\"dataframe\">\n",
       "  <thead>\n",
       "    <tr style=\"text-align: right;\">\n",
       "      <th></th>\n",
       "      <th>Unnamed: 0.1</th>\n",
       "      <th>SEXO</th>\n",
       "      <th>G_ETAREO</th>\n",
       "      <th>EDAD</th>\n",
       "      <th>SUM_VLR_DETALLE</th>\n",
       "    </tr>\n",
       "  </thead>\n",
       "  <tbody>\n",
       "    <tr>\n",
       "      <th>Unnamed: 0.1</th>\n",
       "      <td>1.000000</td>\n",
       "      <td>-0.002071</td>\n",
       "      <td>-0.047832</td>\n",
       "      <td>-0.047359</td>\n",
       "      <td>0.008703</td>\n",
       "    </tr>\n",
       "    <tr>\n",
       "      <th>SEXO</th>\n",
       "      <td>-0.002071</td>\n",
       "      <td>1.000000</td>\n",
       "      <td>0.007584</td>\n",
       "      <td>0.006009</td>\n",
       "      <td>-0.008592</td>\n",
       "    </tr>\n",
       "    <tr>\n",
       "      <th>G_ETAREO</th>\n",
       "      <td>-0.047832</td>\n",
       "      <td>0.007584</td>\n",
       "      <td>1.000000</td>\n",
       "      <td>0.997543</td>\n",
       "      <td>0.005311</td>\n",
       "    </tr>\n",
       "    <tr>\n",
       "      <th>EDAD</th>\n",
       "      <td>-0.047359</td>\n",
       "      <td>0.006009</td>\n",
       "      <td>0.997543</td>\n",
       "      <td>1.000000</td>\n",
       "      <td>0.005345</td>\n",
       "    </tr>\n",
       "    <tr>\n",
       "      <th>SUM_VLR_DETALLE</th>\n",
       "      <td>0.008703</td>\n",
       "      <td>-0.008592</td>\n",
       "      <td>0.005311</td>\n",
       "      <td>0.005345</td>\n",
       "      <td>1.000000</td>\n",
       "    </tr>\n",
       "  </tbody>\n",
       "</table>\n",
       "</div>"
      ],
      "text/plain": [
       "                 Unnamed: 0.1      SEXO  G_ETAREO      EDAD  SUM_VLR_DETALLE\n",
       "Unnamed: 0.1         1.000000 -0.002071 -0.047832 -0.047359         0.008703\n",
       "SEXO                -0.002071  1.000000  0.007584  0.006009        -0.008592\n",
       "G_ETAREO            -0.047832  0.007584  1.000000  0.997543         0.005311\n",
       "EDAD                -0.047359  0.006009  0.997543  1.000000         0.005345\n",
       "SUM_VLR_DETALLE      0.008703 -0.008592  0.005311  0.005345         1.000000"
      ]
     },
     "execution_count": 18,
     "metadata": {},
     "output_type": "execute_result"
    }
   ],
   "source": [
    "df2015.corr(method='pearson')"
   ]
  },
  {
   "cell_type": "code",
   "execution_count": 19,
   "metadata": {
    "collapsed": false
   },
   "outputs": [
    {
     "data": {
      "text/html": [
       "<div>\n",
       "<table border=\"1\" class=\"dataframe\">\n",
       "  <thead>\n",
       "    <tr style=\"text-align: right;\">\n",
       "      <th></th>\n",
       "      <th>EDAD</th>\n",
       "      <th>G_ETAREO</th>\n",
       "      <th>SEXO</th>\n",
       "      <th>SUM_VLR_DETALLE</th>\n",
       "    </tr>\n",
       "  </thead>\n",
       "  <tbody>\n",
       "    <tr>\n",
       "      <th>EDAD</th>\n",
       "      <td>1.000000</td>\n",
       "      <td>0.998030</td>\n",
       "      <td>0.016602</td>\n",
       "      <td>-0.000481</td>\n",
       "    </tr>\n",
       "    <tr>\n",
       "      <th>G_ETAREO</th>\n",
       "      <td>0.998030</td>\n",
       "      <td>1.000000</td>\n",
       "      <td>0.017823</td>\n",
       "      <td>-0.000480</td>\n",
       "    </tr>\n",
       "    <tr>\n",
       "      <th>SEXO</th>\n",
       "      <td>0.016602</td>\n",
       "      <td>0.017823</td>\n",
       "      <td>1.000000</td>\n",
       "      <td>-0.000375</td>\n",
       "    </tr>\n",
       "    <tr>\n",
       "      <th>SUM_VLR_DETALLE</th>\n",
       "      <td>-0.000481</td>\n",
       "      <td>-0.000480</td>\n",
       "      <td>-0.000375</td>\n",
       "      <td>1.000000</td>\n",
       "    </tr>\n",
       "  </tbody>\n",
       "</table>\n",
       "</div>"
      ],
      "text/plain": [
       "                     EDAD  G_ETAREO      SEXO  SUM_VLR_DETALLE\n",
       "EDAD             1.000000  0.998030  0.016602        -0.000481\n",
       "G_ETAREO         0.998030  1.000000  0.017823        -0.000480\n",
       "SEXO             0.016602  0.017823  1.000000        -0.000375\n",
       "SUM_VLR_DETALLE -0.000481 -0.000480 -0.000375         1.000000"
      ]
     },
     "execution_count": 19,
     "metadata": {},
     "output_type": "execute_result"
    }
   ],
   "source": [
    "df_full.corr()"
   ]
  },
  {
   "cell_type": "markdown",
   "metadata": {},
   "source": [
    "# Some plotsand statistics ..."
   ]
  },
  {
   "cell_type": "code",
   "execution_count": 20,
   "metadata": {
    "collapsed": false
   },
   "outputs": [
    {
     "data": {
      "text/plain": [
       "<matplotlib.text.Text at 0x7f7b5726e610>"
      ]
     },
     "execution_count": 20,
     "metadata": {},
     "output_type": "execute_result"
    },
    {
     "data": {
      "image/png": "[encoded data removed]",
      "text/plain": [
       "<matplotlib.figure.Figure at 0x7f7b574e5050>"
      ]
     },
     "metadata": {},
     "output_type": "display_data"
    }
   ],
   "source": [
    "df_full.EDAD.hist(bins = 106) #distribucion de la edad en la muestra de estudio\n",
    "plt.title(\"Distribucion edades 0-105\")"
   ]
  },
  {
   "cell_type": "code",
   "execution_count": 21,
   "metadata": {
    "collapsed": false
   },
   "outputs": [
    {
     "data": {
      "text/plain": [
       "<matplotlib.text.Text at 0x7f7b56f30e50>"
      ]
     },
     "execution_count": 21,
     "metadata": {},
     "output_type": "execute_result"
    },
    {
     "data": {
      "image/png": "[encoded data removed]",
      "text/plain": [
       "<matplotlib.figure.Figure at 0x7f7b57512ed0>"
      ]
     },
     "metadata": {},
     "output_type": "display_data"
    }
   ],
   "source": [
    "df_full.G_ETAREO.hist(bins=21)\n",
    "plt.title(\"Distribucion Grupo Etareo\")"
   ]
  },
  {
   "cell_type": "code",
   "execution_count": 22,
   "metadata": {
    "collapsed": false
   },
   "outputs": [],
   "source": [
    "#df_full.plot.scatter('G_ETAREO', 'SUM_VLR_DETALLE')"
   ]
  },
  {
   "cell_type": "code",
   "execution_count": 23,
   "metadata": {
    "collapsed": false
   },
   "outputs": [
    {
     "data": {
      "text/plain": [
       "3240000000000.0"
      ]
     },
     "execution_count": 23,
     "metadata": {},
     "output_type": "execute_result"
    }
   ],
   "source": [
    "df_full.SUM_VLR_DETALLE.max() #posible valor atípico ... enfermedad huerfana"
   ]
  },
  {
   "cell_type": "code",
   "execution_count": 24,
   "metadata": {
    "collapsed": true
   },
   "outputs": [],
   "source": [
    "df_full = df_full[df_full.SUM_VLR_DETALLE!=df_full.SUM_VLR_DETALLE.max()]"
   ]
  },
  {
   "cell_type": "code",
   "execution_count": 25,
   "metadata": {
    "collapsed": false
   },
   "outputs": [
    {
     "name": "stdout",
     "output_type": "stream",
     "text": [
      "(24, 6)\n"
     ]
    },
    {
     "data": {
      "text/html": [
       "<div>\n",
       "<table border=\"1\" class=\"dataframe\">\n",
       "  <thead>\n",
       "    <tr style=\"text-align: right;\">\n",
       "      <th></th>\n",
       "      <th>EDAD</th>\n",
       "      <th>FECHA_PRESTACION_SERVICIO</th>\n",
       "      <th>FECHA_RECEPC</th>\n",
       "      <th>G_ETAREO</th>\n",
       "      <th>SEXO</th>\n",
       "      <th>SUM_VLR_DETALLE</th>\n",
       "    </tr>\n",
       "  </thead>\n",
       "  <tbody>\n",
       "    <tr>\n",
       "      <th>1994416</th>\n",
       "      <td>58.0</td>\n",
       "      <td>2011-08-10</td>\n",
       "      <td>2011-08-16</td>\n",
       "      <td>11.0</td>\n",
       "      <td>0.0</td>\n",
       "      <td>-536761.0</td>\n",
       "    </tr>\n",
       "    <tr>\n",
       "      <th>2624652</th>\n",
       "      <td>56.0</td>\n",
       "      <td>2011-09-20</td>\n",
       "      <td>2011-10-06</td>\n",
       "      <td>11.0</td>\n",
       "      <td>1.0</td>\n",
       "      <td>-736117.0</td>\n",
       "    </tr>\n",
       "    <tr>\n",
       "      <th>3457585</th>\n",
       "      <td>86.0</td>\n",
       "      <td>2012-01-23</td>\n",
       "      <td>2012-01-23</td>\n",
       "      <td>17.0</td>\n",
       "      <td>1.0</td>\n",
       "      <td>-1.0</td>\n",
       "    </tr>\n",
       "    <tr>\n",
       "      <th>3473472</th>\n",
       "      <td>78.0</td>\n",
       "      <td>2012-02-23</td>\n",
       "      <td>2012-02-23</td>\n",
       "      <td>15.0</td>\n",
       "      <td>1.0</td>\n",
       "      <td>-5.0</td>\n",
       "    </tr>\n",
       "    <tr>\n",
       "      <th>3473498</th>\n",
       "      <td>41.0</td>\n",
       "      <td>2012-02-23</td>\n",
       "      <td>2012-02-23</td>\n",
       "      <td>8.0</td>\n",
       "      <td>1.0</td>\n",
       "      <td>-10.0</td>\n",
       "    </tr>\n",
       "    <tr>\n",
       "      <th>3473501</th>\n",
       "      <td>53.0</td>\n",
       "      <td>2012-02-23</td>\n",
       "      <td>2012-02-23</td>\n",
       "      <td>10.0</td>\n",
       "      <td>0.0</td>\n",
       "      <td>-10.0</td>\n",
       "    </tr>\n",
       "    <tr>\n",
       "      <th>3925759</th>\n",
       "      <td>69.0</td>\n",
       "      <td>2012-07-18</td>\n",
       "      <td>2012-09-06</td>\n",
       "      <td>13.0</td>\n",
       "      <td>1.0</td>\n",
       "      <td>-5.0</td>\n",
       "    </tr>\n",
       "    <tr>\n",
       "      <th>3946190</th>\n",
       "      <td>44.0</td>\n",
       "      <td>2012-08-31</td>\n",
       "      <td>2012-09-24</td>\n",
       "      <td>8.0</td>\n",
       "      <td>1.0</td>\n",
       "      <td>-12.0</td>\n",
       "    </tr>\n",
       "    <tr>\n",
       "      <th>4455097</th>\n",
       "      <td>77.0</td>\n",
       "      <td>2012-10-25</td>\n",
       "      <td>2012-10-25</td>\n",
       "      <td>15.0</td>\n",
       "      <td>0.0</td>\n",
       "      <td>-7.0</td>\n",
       "    </tr>\n",
       "    <tr>\n",
       "      <th>4485179</th>\n",
       "      <td>43.0</td>\n",
       "      <td>2012-11-22</td>\n",
       "      <td>2012-11-22</td>\n",
       "      <td>8.0</td>\n",
       "      <td>1.0</td>\n",
       "      <td>-10.0</td>\n",
       "    </tr>\n",
       "    <tr>\n",
       "      <th>4515764</th>\n",
       "      <td>73.0</td>\n",
       "      <td>2012-10-24</td>\n",
       "      <td>2012-12-17</td>\n",
       "      <td>14.0</td>\n",
       "      <td>1.0</td>\n",
       "      <td>-12.0</td>\n",
       "    </tr>\n",
       "    <tr>\n",
       "      <th>4516643</th>\n",
       "      <td>59.0</td>\n",
       "      <td>2012-12-20</td>\n",
       "      <td>2012-12-20</td>\n",
       "      <td>11.0</td>\n",
       "      <td>1.0</td>\n",
       "      <td>-4.0</td>\n",
       "    </tr>\n",
       "    <tr>\n",
       "      <th>5453656</th>\n",
       "      <td>63.0</td>\n",
       "      <td>2013-01-01</td>\n",
       "      <td>2013-02-07</td>\n",
       "      <td>12.0</td>\n",
       "      <td>0.0</td>\n",
       "      <td>-6.0</td>\n",
       "    </tr>\n",
       "    <tr>\n",
       "      <th>5465938</th>\n",
       "      <td>74.0</td>\n",
       "      <td>2013-03-01</td>\n",
       "      <td>2013-03-01</td>\n",
       "      <td>14.0</td>\n",
       "      <td>1.0</td>\n",
       "      <td>-1.0</td>\n",
       "    </tr>\n",
       "    <tr>\n",
       "      <th>5482627</th>\n",
       "      <td>72.0</td>\n",
       "      <td>2013-01-16</td>\n",
       "      <td>2013-03-18</td>\n",
       "      <td>14.0</td>\n",
       "      <td>0.0</td>\n",
       "      <td>-2.0</td>\n",
       "    </tr>\n",
       "    <tr>\n",
       "      <th>5484226</th>\n",
       "      <td>56.0</td>\n",
       "      <td>2013-03-21</td>\n",
       "      <td>2013-03-21</td>\n",
       "      <td>11.0</td>\n",
       "      <td>1.0</td>\n",
       "      <td>-7.0</td>\n",
       "    </tr>\n",
       "    <tr>\n",
       "      <th>5717679</th>\n",
       "      <td>67.0</td>\n",
       "      <td>2012-11-22</td>\n",
       "      <td>2013-01-03</td>\n",
       "      <td>13.0</td>\n",
       "      <td>1.0</td>\n",
       "      <td>-2917999.0</td>\n",
       "    </tr>\n",
       "    <tr>\n",
       "      <th>6766440</th>\n",
       "      <td>74.0</td>\n",
       "      <td>2013-09-30</td>\n",
       "      <td>2013-10-07</td>\n",
       "      <td>14.0</td>\n",
       "      <td>1.0</td>\n",
       "      <td>-1172.0</td>\n",
       "    </tr>\n",
       "    <tr>\n",
       "      <th>8062425</th>\n",
       "      <td>57.0</td>\n",
       "      <td>2014-11-13 00:00:00</td>\n",
       "      <td>2014-11-13</td>\n",
       "      <td>11.0</td>\n",
       "      <td>1.0</td>\n",
       "      <td>-12.0</td>\n",
       "    </tr>\n",
       "    <tr>\n",
       "      <th>8532302</th>\n",
       "      <td>63.0</td>\n",
       "      <td>2014-05-05 00:00:00</td>\n",
       "      <td>2014-06-13</td>\n",
       "      <td>12.0</td>\n",
       "      <td>1.0</td>\n",
       "      <td>-12.0</td>\n",
       "    </tr>\n",
       "    <tr>\n",
       "      <th>9825888</th>\n",
       "      <td>65.0</td>\n",
       "      <td>2015-01-23 00:00:00</td>\n",
       "      <td>2015-03-25 00:00:00</td>\n",
       "      <td>13.0</td>\n",
       "      <td>1.0</td>\n",
       "      <td>-7.0</td>\n",
       "    </tr>\n",
       "    <tr>\n",
       "      <th>10010652</th>\n",
       "      <td>55.0</td>\n",
       "      <td>2015-05-12 00:00:00</td>\n",
       "      <td>2015-05-12 00:00:00</td>\n",
       "      <td>11.0</td>\n",
       "      <td>0.0</td>\n",
       "      <td>-3.0</td>\n",
       "    </tr>\n",
       "    <tr>\n",
       "      <th>10082232</th>\n",
       "      <td>57.0</td>\n",
       "      <td>2015-04-17 00:00:00</td>\n",
       "      <td>2015-06-05 00:00:00</td>\n",
       "      <td>11.0</td>\n",
       "      <td>1.0</td>\n",
       "      <td>-7.0</td>\n",
       "    </tr>\n",
       "    <tr>\n",
       "      <th>10204321</th>\n",
       "      <td>75.0</td>\n",
       "      <td>2015-06-23 00:00:00</td>\n",
       "      <td>2015-08-13 00:00:00</td>\n",
       "      <td>15.0</td>\n",
       "      <td>0.0</td>\n",
       "      <td>-7.0</td>\n",
       "    </tr>\n",
       "  </tbody>\n",
       "</table>\n",
       "</div>"
      ],
      "text/plain": [
       "          EDAD FECHA_PRESTACION_SERVICIO         FECHA_RECEPC  G_ETAREO  SEXO  \\\n",
       "1994416   58.0                2011-08-10           2011-08-16      11.0   0.0   \n",
       "2624652   56.0                2011-09-20           2011-10-06      11.0   1.0   \n",
       "3457585   86.0                2012-01-23           2012-01-23      17.0   1.0   \n",
       "3473472   78.0                2012-02-23           2012-02-23      15.0   1.0   \n",
       "3473498   41.0                2012-02-23           2012-02-23       8.0   1.0   \n",
       "3473501   53.0                2012-02-23           2012-02-23      10.0   0.0   \n",
       "3925759   69.0                2012-07-18           2012-09-06      13.0   1.0   \n",
       "3946190   44.0                2012-08-31           2012-09-24       8.0   1.0   \n",
       "4455097   77.0                2012-10-25           2012-10-25      15.0   0.0   \n",
       "4485179   43.0                2012-11-22           2012-11-22       8.0   1.0   \n",
       "4515764   73.0                2012-10-24           2012-12-17      14.0   1.0   \n",
       "4516643   59.0                2012-12-20           2012-12-20      11.0   1.0   \n",
       "5453656   63.0                2013-01-01           2013-02-07      12.0   0.0   \n",
       "5465938   74.0                2013-03-01           2013-03-01      14.0   1.0   \n",
       "5482627   72.0                2013-01-16           2013-03-18      14.0   0.0   \n",
       "5484226   56.0                2013-03-21           2013-03-21      11.0   1.0   \n",
       "5717679   67.0                2012-11-22           2013-01-03      13.0   1.0   \n",
       "6766440   74.0                2013-09-30           2013-10-07      14.0   1.0   \n",
       "8062425   57.0       2014-11-13 00:00:00           2014-11-13      11.0   1.0   \n",
       "8532302   63.0       2014-05-05 00:00:00           2014-06-13      12.0   1.0   \n",
       "9825888   65.0       2015-01-23 00:00:00  2015-03-25 00:00:00      13.0   1.0   \n",
       "10010652  55.0       2015-05-12 00:00:00  2015-05-12 00:00:00      11.0   0.0   \n",
       "10082232  57.0       2015-04-17 00:00:00  2015-06-05 00:00:00      11.0   1.0   \n",
       "10204321  75.0       2015-06-23 00:00:00  2015-08-13 00:00:00      15.0   0.0   \n",
       "\n",
       "          SUM_VLR_DETALLE  \n",
       "1994416         -536761.0  \n",
       "2624652         -736117.0  \n",
       "3457585              -1.0  \n",
       "3473472              -5.0  \n",
       "3473498             -10.0  \n",
       "3473501             -10.0  \n",
       "3925759              -5.0  \n",
       "3946190             -12.0  \n",
       "4455097              -7.0  \n",
       "4485179             -10.0  \n",
       "4515764             -12.0  \n",
       "4516643              -4.0  \n",
       "5453656              -6.0  \n",
       "5465938              -1.0  \n",
       "5482627              -2.0  \n",
       "5484226              -7.0  \n",
       "5717679        -2917999.0  \n",
       "6766440           -1172.0  \n",
       "8062425             -12.0  \n",
       "8532302             -12.0  \n",
       "9825888              -7.0  \n",
       "10010652             -3.0  \n",
       "10082232             -7.0  \n",
       "10204321             -7.0  "
      ]
     },
     "execution_count": 25,
     "metadata": {},
     "output_type": "execute_result"
    }
   ],
   "source": [
    "print df_full[df_full.SUM_VLR_DETALLE<0].shape #registros con saldo negativo\n",
    "df_full[df_full.SUM_VLR_DETALLE<0]"
   ]
  },
  {
   "cell_type": "code",
   "execution_count": 26,
   "metadata": {
    "collapsed": true
   },
   "outputs": [],
   "source": [
    "df_full = df_full[df_full.SUM_VLR_DETALLE>0] #elimino los 24 registros"
   ]
  },
  {
   "cell_type": "code",
   "execution_count": 27,
   "metadata": {
    "collapsed": false
   },
   "outputs": [],
   "source": [
    "#df_full.plot.scatter('G_ETAREO', 'SUM_VLR_DETALLE') # esto esta mucho mejor y hay una clara tendencia en un grupo!\n",
    "# pero son valores muy grandes comparados con los demas"
   ]
  },
  {
   "cell_type": "code",
   "execution_count": 28,
   "metadata": {
    "collapsed": false
   },
   "outputs": [
    {
     "data": {
      "text/plain": [
       "1.0"
      ]
     },
     "execution_count": 28,
     "metadata": {},
     "output_type": "execute_result"
    }
   ],
   "source": [
    "df_full.SUM_VLR_DETALLE.min()"
   ]
  },
  {
   "cell_type": "code",
   "execution_count": 29,
   "metadata": {
    "collapsed": false
   },
   "outputs": [
    {
     "data": {
      "text/plain": [
       "<matplotlib.text.Text at 0x7f7b56d8b5d0>"
      ]
     },
     "execution_count": 29,
     "metadata": {},
     "output_type": "execute_result"
    },
    {
     "data": {
      "image/png": "[encoded data removed]",
      "text/plain": [
       "<matplotlib.figure.Figure at 0x7f7b57041290>"
      ]
     },
     "metadata": {},
     "output_type": "display_data"
    }
   ],
   "source": [
    "df_full.SEXO.value_counts().plot(kind='pie',autopct='%1.1f%%',fontsize=10,figsize = (10,10)) # mayoria mujeres\n",
    "plt.title(\"Porcentaje de sexos en el Conjunto de datos\") #1 mujer, 0 hombre"
   ]
  },
  {
   "cell_type": "code",
   "execution_count": 30,
   "metadata": {
    "collapsed": false
   },
   "outputs": [
    {
     "data": {
      "text/plain": [
       "<matplotlib.text.Text at 0x7f7b56d26dd0>"
      ]
     },
     "execution_count": 30,
     "metadata": {},
     "output_type": "execute_result"
    },
    {
     "data": {
      "image/png": "[encoded data removed]",
      "text/plain": [
       "<matplotlib.figure.Figure at 0x7f7b56de1110>"
      ]
     },
     "metadata": {},
     "output_type": "display_data"
    }
   ],
   "source": [
    "df_full.G_ETAREO.value_counts().plot(kind='pie',autopct='%1.1f%%', fontsize=10,figsize = (10,10)) \n",
    "plt.title(\"Porcentaje de cada Grupo etareo\")"
   ]
  },
  {
   "cell_type": "raw",
   "metadata": {},
   "source": [
    "'SEXO':     {'M': 0, 'F': 1}\n",
    "'G_ETAREO': {'0 - 4':0, '5 - 9':1, '10 - 14':2, '15 - 19':3,\n",
    "                                   '20 - 24':4, '25 - 29':5, '30 - 34':6, '35 - 39':7,\n",
    "                                   '40 - 44':8, '45 - 49':9, '50 - 54':10, '55 - 59':11,\n",
    "                                   '60 - 64':12, '65 - 69':13, '70 - 74':14, '75 - 79':15,\n",
    "                                   '80 - 84':16, '85 - 89':17, '90 - 94':18, '95 - 99':19,\n",
    "                                   '100 - 104':20}"
   ]
  },
  {
   "cell_type": "code",
   "execution_count": 31,
   "metadata": {
    "collapsed": true
   },
   "outputs": [],
   "source": [
    "df_full_F = df_full[df_full.SEXO==1]\n",
    "df_full_M = df_full[df_full.SEXO==0]"
   ]
  },
  {
   "cell_type": "code",
   "execution_count": 32,
   "metadata": {
    "collapsed": false
   },
   "outputs": [
    {
     "data": {
      "text/plain": [
       "<matplotlib.legend.Legend at 0x7f7b539f6bd0>"
      ]
     },
     "execution_count": 32,
     "metadata": {},
     "output_type": "execute_result"
    },
    {
     "data": {
      "image/png": "[encoded data removed]",
      "text/plain": [
       "<matplotlib.figure.Figure at 0x7f7b56efc710>"
      ]
     },
     "metadata": {},
     "output_type": "display_data"
    }
   ],
   "source": [
    "df_full_F.G_ETAREO.hist(bins = 21, label='F')\n",
    "df_full_M.G_ETAREO.hist(bins = 21, label = 'M')\n",
    "plt.legend()"
   ]
  },
  {
   "cell_type": "code",
   "execution_count": 33,
   "metadata": {
    "collapsed": false
   },
   "outputs": [
    {
     "data": {
      "text/plain": [
       "(1.0, 2452000000.0)"
      ]
     },
     "execution_count": 33,
     "metadata": {},
     "output_type": "execute_result"
    }
   ],
   "source": [
    "df_full.SUM_VLR_DETALLE.min(), df_full.SUM_VLR_DETALLE.max() # hay valores negativos esto que significa para uds? "
   ]
  },
  {
   "cell_type": "code",
   "execution_count": 34,
   "metadata": {
    "collapsed": false
   },
   "outputs": [
    {
     "data": {
      "text/plain": [
       "<pandas.core.groupby.DataFrameGroupBy object at 0x7f7b52106b50>"
      ]
     },
     "execution_count": 34,
     "metadata": {},
     "output_type": "execute_result"
    }
   ],
   "source": [
    "df_full.groupby('G_ETAREO')"
   ]
  },
  {
   "cell_type": "markdown",
   "metadata": {},
   "source": [
    "###  Segun el sexo distribucion degrupos etareos en los datos"
   ]
  },
  {
   "cell_type": "code",
   "execution_count": 35,
   "metadata": {
    "collapsed": false
   },
   "outputs": [
    {
     "name": "stdout",
     "output_type": "stream",
     "text": [
      "0.0 4796872529.0\n",
      "1.0 7006190847.0\n",
      "2.0 9149720163.0\n",
      "3.0 14267136480.0\n",
      "4.0 19655883568.0\n",
      "5.0 28051212714.0\n",
      "6.0 9163229189.0\n",
      "7.0 9233685661.0\n",
      "8.0 10475313869.0\n",
      "9.0 17632014312.0\n",
      "10.0 30900854070.0\n",
      "11.0 55597054091.0\n",
      "12.0 76439484249.0\n",
      "13.0 71182308231.0\n",
      "14.0 59187388403.0\n",
      "15.0 62480796872.0\n",
      "16.0 62451878336.0\n",
      "17.0 60230662938.0\n",
      "18.0 27970343857.0\n",
      "19.0 14929701591.0\n",
      "20.0 3308982334.0\n"
     ]
    }
   ],
   "source": [
    "total_gastos = []\n",
    "for index, group in df_full.groupby('G_ETAREO'):\n",
    "    print index, group.SUM_VLR_DETALLE.sum()\n",
    "    total_gastos.append(group.SUM_VLR_DETALLE.sum())"
   ]
  },
  {
   "cell_type": "code",
   "execution_count": 36,
   "metadata": {
    "collapsed": false
   },
   "outputs": [
    {
     "name": "stdout",
     "output_type": "stream",
     "text": [
      "0.0 2619669504.0\n",
      "1.0 3531039069.0\n",
      "2.0 4775965026.0\n",
      "3.0 7825648931.0\n",
      "4.0 8581584594.0\n",
      "5.0 6918516661.0\n",
      "6.0 5964018315.0\n",
      "7.0 6055925156.0\n",
      "8.0 7193773522.0\n",
      "9.0 12092791040.0\n",
      "10.0 20808760434.0\n",
      "11.0 33810544178.0\n",
      "12.0 39680586652.0\n",
      "13.0 33582994955.0\n",
      "14.0 33063247418.0\n",
      "15.0 36934071215.0\n",
      "16.0 35200026417.0\n",
      "17.0 35545407432.0\n",
      "18.0 17864031987.0\n",
      "19.0 8068984202.0\n",
      "20.0 1813291061.0\n"
     ]
    }
   ],
   "source": [
    "total_gastos_F = []\n",
    "for index, group in df_full_F.groupby('G_ETAREO'):\n",
    "    print index, group.SUM_VLR_DETALLE.sum()\n",
    "    total_gastos_F.append(group.SUM_VLR_DETALLE.sum())"
   ]
  },
  {
   "cell_type": "code",
   "execution_count": 37,
   "metadata": {
    "collapsed": false
   },
   "outputs": [
    {
     "name": "stdout",
     "output_type": "stream",
     "text": [
      "0.0 2177203025.0\n",
      "1.0 3475151778.0\n",
      "2.0 4373755137.0\n",
      "3.0 6441487549.0\n",
      "4.0 11074298974.0\n",
      "5.0 21132696053.0\n",
      "6.0 3199210874.0\n",
      "7.0 3177760505.0\n",
      "8.0 3281540347.0\n",
      "9.0 5539223272.0\n",
      "10.0 10092093636.0\n",
      "11.0 21786509913.0\n",
      "12.0 36758897597.0\n",
      "13.0 37599313276.0\n",
      "14.0 26124140985.0\n",
      "15.0 25546725657.0\n",
      "16.0 27251851919.0\n",
      "17.0 24685255506.0\n",
      "18.0 10106311870.0\n",
      "19.0 6860717389.0\n",
      "20.0 1495691273.0\n"
     ]
    }
   ],
   "source": [
    "total_gastos_M = []\n",
    "for index, group in df_full_M.groupby('G_ETAREO'):\n",
    "    print index, group.SUM_VLR_DETALLE.sum()\n",
    "    total_gastos_M.append(group.SUM_VLR_DETALLE.sum())"
   ]
  },
  {
   "cell_type": "code",
   "execution_count": 38,
   "metadata": {
    "collapsed": false
   },
   "outputs": [
    {
     "data": {
      "text/plain": [
       "<matplotlib.text.Text at 0x7f7b52023490>"
      ]
     },
     "execution_count": 38,
     "metadata": {},
     "output_type": "execute_result"
    },
    {
     "data": {
      "image/png": "[encoded data removed]",
      "text/plain": [
       "<matplotlib.figure.Figure at 0x7f7b56e30490>"
      ]
     },
     "metadata": {},
     "output_type": "display_data"
    }
   ],
   "source": [
    "objects = ('0 - 4', '5 - 9', '10 - 14','15 - 19','20 - 24', '25 - 29', \n",
    "           '30 - 34','35 - 39','40 - 44', '45 - 49','50 - 54', '55 - 59',\n",
    "           '60 - 64', '65 - 69','70 - 74','75 - 79','80 - 84','85 - 89',\n",
    "           '90 - 94', '95 - 99','100 - 104')\n",
    "y_pos = np.arange(len(objects))\n",
    "performance = total_gastos\n",
    "\n",
    "plt.figure(figsize=(20,8))\n",
    "plt.bar(y_pos,performance , align='center', alpha=0.5)\n",
    "plt.xticks(y_pos, objects)\n",
    "plt.ylabel('Grupos Etareos')\n",
    "plt.title('Total gastos 2010-2015')\n"
   ]
  },
  {
   "cell_type": "markdown",
   "metadata": {},
   "source": [
    "###  Segun el sexo distribucion de Suma Valor en los datos"
   ]
  },
  {
   "cell_type": "code",
   "execution_count": 39,
   "metadata": {
    "collapsed": false
   },
   "outputs": [
    {
     "name": "stdout",
     "output_type": "stream",
     "text": [
      "1.0 200025825.0 55822.9485034 388360.650369\n",
      "1.0 2452000000.0 66942.7124976 1894689.91283\n",
      "1.0 2452000000.0 60296.843875 1238750.08317\n"
     ]
    }
   ],
   "source": [
    "print df_full_F.SUM_VLR_DETALLE.min(),df_full_F.SUM_VLR_DETALLE.max(), df_full_F.SUM_VLR_DETALLE.mean(), df_full_F.SUM_VLR_DETALLE.std()\n",
    "print df_full_M.SUM_VLR_DETALLE.min(),df_full_M.SUM_VLR_DETALLE.max(),df_full_M.SUM_VLR_DETALLE.mean(), df_full_M.SUM_VLR_DETALLE.std()\n",
    "print df_full.SUM_VLR_DETALLE.min(),df_full.SUM_VLR_DETALLE.max(),df_full.SUM_VLR_DETALLE.mean(), df_full.SUM_VLR_DETALLE.std()\n",
    "#saldos negativos no pueden haber"
   ]
  },
  {
   "cell_type": "code",
   "execution_count": 40,
   "metadata": {
    "collapsed": false
   },
   "outputs": [
    {
     "data": {
      "text/plain": [
       "<matplotlib.text.Text at 0x7f7b53a4a1d0>"
      ]
     },
     "execution_count": 40,
     "metadata": {},
     "output_type": "execute_result"
    },
    {
     "data": {
      "image/png": "[encoded data removed]",
      "text/plain": [
       "<matplotlib.figure.Figure at 0x7f7b57226850>"
      ]
     },
     "metadata": {},
     "output_type": "display_data"
    }
   ],
   "source": [
    "objects = ('0 - 4', '5 - 9', '10 - 14','15 - 19','20 - 24', '25 - 29', \n",
    "           '30 - 34','35 - 39','40 - 44', '45 - 49','50 - 54', '55 - 59',\n",
    "           '60 - 64', '65 - 69','70 - 74','75 - 79','80 - 84','85 - 89',\n",
    "           '90 - 94', '95 - 99','100 - 104')\n",
    "y_pos = np.arange(len(objects))\n",
    "performance = total_gastos_F\n",
    "\n",
    "plt.figure(figsize=(20,8))\n",
    "plt.bar(y_pos,performance , align='center', alpha=0.5)\n",
    "plt.xticks(y_pos, objects)\n",
    "plt.ylabel('Grupos Etareos')\n",
    "plt.title('Total gastos Mujeres 2010-2015')\n"
   ]
  },
  {
   "cell_type": "code",
   "execution_count": 41,
   "metadata": {
    "collapsed": false
   },
   "outputs": [
    {
     "data": {
      "text/plain": [
       "<matplotlib.text.Text at 0x7f7b51d810d0>"
      ]
     },
     "execution_count": 41,
     "metadata": {},
     "output_type": "execute_result"
    },
    {
     "data": {
      "image/png": "[encoded data removed]",
      "text/plain": [
       "<matplotlib.figure.Figure at 0x7f7b52106a50>"
      ]
     },
     "metadata": {},
     "output_type": "display_data"
    }
   ],
   "source": [
    "objects = ('0 - 4', '5 - 9', '10 - 14','15 - 19','20 - 24', '25 - 29', \n",
    "           '30 - 34','35 - 39','40 - 44', '45 - 49','50 - 54', '55 - 59',\n",
    "           '60 - 64', '65 - 69','70 - 74','75 - 79','80 - 84','85 - 89',\n",
    "           '90 - 94', '95 - 99','100 - 104')\n",
    "y_pos = np.arange(len(objects))\n",
    "performance = total_gastos_M\n",
    "\n",
    "plt.figure(figsize=(20,8))\n",
    "plt.bar(y_pos,performance , align='center', alpha=0.5)\n",
    "plt.xticks(y_pos, objects)\n",
    "plt.ylabel('Grupos Etareos')\n",
    "plt.title('Total gastos Hombres 2010-2015')\n"
   ]
  },
  {
   "cell_type": "code",
   "execution_count": 42,
   "metadata": {
    "collapsed": false
   },
   "outputs": [
    {
     "data": {
      "text/html": [
       "<div>\n",
       "<table border=\"1\" class=\"dataframe\">\n",
       "  <thead>\n",
       "    <tr style=\"text-align: right;\">\n",
       "      <th></th>\n",
       "      <th>EDAD</th>\n",
       "      <th>G_ETAREO</th>\n",
       "      <th>SEXO</th>\n",
       "      <th>SUM_VLR_DETALLE</th>\n",
       "    </tr>\n",
       "  </thead>\n",
       "  <tbody>\n",
       "    <tr>\n",
       "      <th>EDAD</th>\n",
       "      <td>1.000000</td>\n",
       "      <td>0.998028</td>\n",
       "      <td>0.016473</td>\n",
       "      <td>0.001526</td>\n",
       "    </tr>\n",
       "    <tr>\n",
       "      <th>G_ETAREO</th>\n",
       "      <td>0.998028</td>\n",
       "      <td>1.000000</td>\n",
       "      <td>0.017711</td>\n",
       "      <td>0.001476</td>\n",
       "    </tr>\n",
       "    <tr>\n",
       "      <th>SEXO</th>\n",
       "      <td>0.016473</td>\n",
       "      <td>0.017711</td>\n",
       "      <td>1.000000</td>\n",
       "      <td>-0.004402</td>\n",
       "    </tr>\n",
       "    <tr>\n",
       "      <th>SUM_VLR_DETALLE</th>\n",
       "      <td>0.001526</td>\n",
       "      <td>0.001476</td>\n",
       "      <td>-0.004402</td>\n",
       "      <td>1.000000</td>\n",
       "    </tr>\n",
       "  </tbody>\n",
       "</table>\n",
       "</div>"
      ],
      "text/plain": [
       "                     EDAD  G_ETAREO      SEXO  SUM_VLR_DETALLE\n",
       "EDAD             1.000000  0.998028  0.016473         0.001526\n",
       "G_ETAREO         0.998028  1.000000  0.017711         0.001476\n",
       "SEXO             0.016473  0.017711  1.000000        -0.004402\n",
       "SUM_VLR_DETALLE  0.001526  0.001476 -0.004402         1.000000"
      ]
     },
     "execution_count": 42,
     "metadata": {},
     "output_type": "execute_result"
    }
   ],
   "source": [
    "df_full.corr(method='pearson')"
   ]
  },
  {
   "cell_type": "code",
   "execution_count": 43,
   "metadata": {
    "collapsed": false
   },
   "outputs": [
    {
     "data": {
      "text/html": [
       "<div>\n",
       "<table border=\"1\" class=\"dataframe\">\n",
       "  <thead>\n",
       "    <tr style=\"text-align: right;\">\n",
       "      <th></th>\n",
       "      <th>EDAD</th>\n",
       "      <th>G_ETAREO</th>\n",
       "      <th>SEXO</th>\n",
       "      <th>SUM_VLR_DETALLE</th>\n",
       "    </tr>\n",
       "  </thead>\n",
       "  <tbody>\n",
       "    <tr>\n",
       "      <th>count</th>\n",
       "      <td>1.084818e+07</td>\n",
       "      <td>1.084818e+07</td>\n",
       "      <td>1.084818e+07</td>\n",
       "      <td>1.084818e+07</td>\n",
       "    </tr>\n",
       "    <tr>\n",
       "      <th>mean</th>\n",
       "      <td>6.288868e+01</td>\n",
       "      <td>1.217702e+01</td>\n",
       "      <td>5.976627e-01</td>\n",
       "      <td>6.029684e+04</td>\n",
       "    </tr>\n",
       "    <tr>\n",
       "      <th>std</th>\n",
       "      <td>2.250860e+01</td>\n",
       "      <td>4.512593e+00</td>\n",
       "      <td>4.903693e-01</td>\n",
       "      <td>1.238750e+06</td>\n",
       "    </tr>\n",
       "    <tr>\n",
       "      <th>min</th>\n",
       "      <td>0.000000e+00</td>\n",
       "      <td>0.000000e+00</td>\n",
       "      <td>0.000000e+00</td>\n",
       "      <td>1.000000e+00</td>\n",
       "    </tr>\n",
       "    <tr>\n",
       "      <th>25%</th>\n",
       "      <td>5.400000e+01</td>\n",
       "      <td>1.000000e+01</td>\n",
       "      <td>0.000000e+00</td>\n",
       "      <td>7.200000e+03</td>\n",
       "    </tr>\n",
       "    <tr>\n",
       "      <th>50%</th>\n",
       "      <td>6.600000e+01</td>\n",
       "      <td>1.300000e+01</td>\n",
       "      <td>1.000000e+00</td>\n",
       "      <td>1.680000e+04</td>\n",
       "    </tr>\n",
       "    <tr>\n",
       "      <th>75%</th>\n",
       "      <td>8.000000e+01</td>\n",
       "      <td>1.600000e+01</td>\n",
       "      <td>1.000000e+00</td>\n",
       "      <td>4.400000e+04</td>\n",
       "    </tr>\n",
       "    <tr>\n",
       "      <th>max</th>\n",
       "      <td>1.050000e+02</td>\n",
       "      <td>2.000000e+01</td>\n",
       "      <td>1.000000e+00</td>\n",
       "      <td>2.452000e+09</td>\n",
       "    </tr>\n",
       "  </tbody>\n",
       "</table>\n",
       "</div>"
      ],
      "text/plain": [
       "               EDAD      G_ETAREO          SEXO  SUM_VLR_DETALLE\n",
       "count  1.084818e+07  1.084818e+07  1.084818e+07     1.084818e+07\n",
       "mean   6.288868e+01  1.217702e+01  5.976627e-01     6.029684e+04\n",
       "std    2.250860e+01  4.512593e+00  4.903693e-01     1.238750e+06\n",
       "min    0.000000e+00  0.000000e+00  0.000000e+00     1.000000e+00\n",
       "25%    5.400000e+01  1.000000e+01  0.000000e+00     7.200000e+03\n",
       "50%    6.600000e+01  1.300000e+01  1.000000e+00     1.680000e+04\n",
       "75%    8.000000e+01  1.600000e+01  1.000000e+00     4.400000e+04\n",
       "max    1.050000e+02  2.000000e+01  1.000000e+00     2.452000e+09"
      ]
     },
     "execution_count": 43,
     "metadata": {},
     "output_type": "execute_result"
    }
   ],
   "source": [
    "df_full.describe()"
   ]
  },
  {
   "cell_type": "code",
   "execution_count": 44,
   "metadata": {
    "collapsed": false
   },
   "outputs": [
    {
     "data": {
      "text/html": [
       "<div>\n",
       "<table border=\"1\" class=\"dataframe\">\n",
       "  <thead>\n",
       "    <tr style=\"text-align: right;\">\n",
       "      <th></th>\n",
       "      <th>EDAD</th>\n",
       "      <th>G_ETAREO</th>\n",
       "      <th>SEXO</th>\n",
       "      <th>SUM_VLR_DETALLE</th>\n",
       "    </tr>\n",
       "  </thead>\n",
       "  <tbody>\n",
       "    <tr>\n",
       "      <th>count</th>\n",
       "      <td>6.483550e+06</td>\n",
       "      <td>6.483550e+06</td>\n",
       "      <td>6483550.0</td>\n",
       "      <td>6.483550e+06</td>\n",
       "    </tr>\n",
       "    <tr>\n",
       "      <th>mean</th>\n",
       "      <td>6.319290e+01</td>\n",
       "      <td>1.224260e+01</td>\n",
       "      <td>1.0</td>\n",
       "      <td>5.582295e+04</td>\n",
       "    </tr>\n",
       "    <tr>\n",
       "      <th>std</th>\n",
       "      <td>2.190967e+01</td>\n",
       "      <td>4.392070e+00</td>\n",
       "      <td>0.0</td>\n",
       "      <td>3.883607e+05</td>\n",
       "    </tr>\n",
       "    <tr>\n",
       "      <th>min</th>\n",
       "      <td>0.000000e+00</td>\n",
       "      <td>0.000000e+00</td>\n",
       "      <td>1.0</td>\n",
       "      <td>1.000000e+00</td>\n",
       "    </tr>\n",
       "    <tr>\n",
       "      <th>25%</th>\n",
       "      <td>5.300000e+01</td>\n",
       "      <td>1.000000e+01</td>\n",
       "      <td>1.0</td>\n",
       "      <td>7.450000e+03</td>\n",
       "    </tr>\n",
       "    <tr>\n",
       "      <th>50%</th>\n",
       "      <td>6.600000e+01</td>\n",
       "      <td>1.300000e+01</td>\n",
       "      <td>1.0</td>\n",
       "      <td>1.680500e+04</td>\n",
       "    </tr>\n",
       "    <tr>\n",
       "      <th>75%</th>\n",
       "      <td>8.000000e+01</td>\n",
       "      <td>1.600000e+01</td>\n",
       "      <td>1.0</td>\n",
       "      <td>4.400000e+04</td>\n",
       "    </tr>\n",
       "    <tr>\n",
       "      <th>max</th>\n",
       "      <td>1.050000e+02</td>\n",
       "      <td>2.000000e+01</td>\n",
       "      <td>1.0</td>\n",
       "      <td>2.000258e+08</td>\n",
       "    </tr>\n",
       "  </tbody>\n",
       "</table>\n",
       "</div>"
      ],
      "text/plain": [
       "               EDAD      G_ETAREO       SEXO  SUM_VLR_DETALLE\n",
       "count  6.483550e+06  6.483550e+06  6483550.0     6.483550e+06\n",
       "mean   6.319290e+01  1.224260e+01        1.0     5.582295e+04\n",
       "std    2.190967e+01  4.392070e+00        0.0     3.883607e+05\n",
       "min    0.000000e+00  0.000000e+00        1.0     1.000000e+00\n",
       "25%    5.300000e+01  1.000000e+01        1.0     7.450000e+03\n",
       "50%    6.600000e+01  1.300000e+01        1.0     1.680500e+04\n",
       "75%    8.000000e+01  1.600000e+01        1.0     4.400000e+04\n",
       "max    1.050000e+02  2.000000e+01        1.0     2.000258e+08"
      ]
     },
     "execution_count": 44,
     "metadata": {},
     "output_type": "execute_result"
    }
   ],
   "source": [
    "df_full_F.describe()"
   ]
  },
  {
   "cell_type": "code",
   "execution_count": 45,
   "metadata": {
    "collapsed": false
   },
   "outputs": [
    {
     "data": {
      "text/html": [
       "<div>\n",
       "<table border=\"1\" class=\"dataframe\">\n",
       "  <thead>\n",
       "    <tr style=\"text-align: right;\">\n",
       "      <th></th>\n",
       "      <th>EDAD</th>\n",
       "      <th>G_ETAREO</th>\n",
       "      <th>SEXO</th>\n",
       "      <th>SUM_VLR_DETALLE</th>\n",
       "    </tr>\n",
       "  </thead>\n",
       "  <tbody>\n",
       "    <tr>\n",
       "      <th>count</th>\n",
       "      <td>6.483550e+06</td>\n",
       "      <td>6.483550e+06</td>\n",
       "      <td>6483550.0</td>\n",
       "      <td>6.483550e+06</td>\n",
       "    </tr>\n",
       "    <tr>\n",
       "      <th>mean</th>\n",
       "      <td>6.319290e+01</td>\n",
       "      <td>1.224260e+01</td>\n",
       "      <td>1.0</td>\n",
       "      <td>5.582295e+04</td>\n",
       "    </tr>\n",
       "    <tr>\n",
       "      <th>std</th>\n",
       "      <td>2.190967e+01</td>\n",
       "      <td>4.392070e+00</td>\n",
       "      <td>0.0</td>\n",
       "      <td>3.883607e+05</td>\n",
       "    </tr>\n",
       "    <tr>\n",
       "      <th>min</th>\n",
       "      <td>0.000000e+00</td>\n",
       "      <td>0.000000e+00</td>\n",
       "      <td>1.0</td>\n",
       "      <td>1.000000e+00</td>\n",
       "    </tr>\n",
       "    <tr>\n",
       "      <th>25%</th>\n",
       "      <td>5.300000e+01</td>\n",
       "      <td>1.000000e+01</td>\n",
       "      <td>1.0</td>\n",
       "      <td>7.450000e+03</td>\n",
       "    </tr>\n",
       "    <tr>\n",
       "      <th>50%</th>\n",
       "      <td>6.600000e+01</td>\n",
       "      <td>1.300000e+01</td>\n",
       "      <td>1.0</td>\n",
       "      <td>1.680500e+04</td>\n",
       "    </tr>\n",
       "    <tr>\n",
       "      <th>75%</th>\n",
       "      <td>8.000000e+01</td>\n",
       "      <td>1.600000e+01</td>\n",
       "      <td>1.0</td>\n",
       "      <td>4.400000e+04</td>\n",
       "    </tr>\n",
       "    <tr>\n",
       "      <th>max</th>\n",
       "      <td>1.050000e+02</td>\n",
       "      <td>2.000000e+01</td>\n",
       "      <td>1.0</td>\n",
       "      <td>2.000258e+08</td>\n",
       "    </tr>\n",
       "  </tbody>\n",
       "</table>\n",
       "</div>"
      ],
      "text/plain": [
       "               EDAD      G_ETAREO       SEXO  SUM_VLR_DETALLE\n",
       "count  6.483550e+06  6.483550e+06  6483550.0     6.483550e+06\n",
       "mean   6.319290e+01  1.224260e+01        1.0     5.582295e+04\n",
       "std    2.190967e+01  4.392070e+00        0.0     3.883607e+05\n",
       "min    0.000000e+00  0.000000e+00        1.0     1.000000e+00\n",
       "25%    5.300000e+01  1.000000e+01        1.0     7.450000e+03\n",
       "50%    6.600000e+01  1.300000e+01        1.0     1.680500e+04\n",
       "75%    8.000000e+01  1.600000e+01        1.0     4.400000e+04\n",
       "max    1.050000e+02  2.000000e+01        1.0     2.000258e+08"
      ]
     },
     "execution_count": 45,
     "metadata": {},
     "output_type": "execute_result"
    }
   ],
   "source": [
    "df_full_F.describe()"
   ]
  },
  {
   "cell_type": "code",
   "execution_count": 46,
   "metadata": {
    "collapsed": false
   },
   "outputs": [
    {
     "data": {
      "text/plain": [
       "array([[ 1.        ,  0.00970368],\n",
       "       [ 0.00970368,  1.        ]])"
      ]
     },
     "execution_count": 46,
     "metadata": {},
     "output_type": "execute_result"
    }
   ],
   "source": [
    "np.corrcoef(df_full_F.G_ETAREO.as_matrix(),df_full_F.SUM_VLR_DETALLE.as_matrix())"
   ]
  },
  {
   "cell_type": "code",
   "execution_count": 47,
   "metadata": {
    "collapsed": false
   },
   "outputs": [
    {
     "data": {
      "text/plain": [
       "array([[  1.00000000e+00,  -3.38109388e-04],\n",
       "       [ -3.38109388e-04,   1.00000000e+00]])"
      ]
     },
     "execution_count": 47,
     "metadata": {},
     "output_type": "execute_result"
    }
   ],
   "source": [
    "np.corrcoef(df_full_M.G_ETAREO.as_matrix(),df_full_M.SUM_VLR_DETALLE.as_matrix())"
   ]
  },
  {
   "cell_type": "code",
   "execution_count": 48,
   "metadata": {
    "collapsed": false
   },
   "outputs": [
    {
     "data": {
      "text/plain": [
       "array([[ 1.        ,  0.00147571],\n",
       "       [ 0.00147571,  1.        ]])"
      ]
     },
     "execution_count": 48,
     "metadata": {},
     "output_type": "execute_result"
    }
   ],
   "source": [
    "np.corrcoef(df_full.G_ETAREO.as_matrix(),df_full.SUM_VLR_DETALLE.as_matrix())"
   ]
  },
  {
   "cell_type": "code",
   "execution_count": 49,
   "metadata": {
    "collapsed": true
   },
   "outputs": [],
   "source": [
    "# Intento regresion no ahpra\n",
    "# prueba de kolmogorov smirnoff\n",
    "# revisar los datos en excel \n",
    "# piramide por genero\n",
    "# volver a generar"
   ]
  },
  {
   "cell_type": "markdown",
   "metadata": {
    "collapsed": true
   },
   "source": [
    "**Mis conclusiones:**\n",
    "- Los grupos 50-89 años si gastan más \n",
    "- Pero  el sexo influye (por lo menos en sus datos)\n",
    "- La grafica de barras de hombres y mujeres es bien diferente \n",
    "-  Los hombres tienen un máximo en el grupo 25-29 puede ser por las enfermedades huerfanas que presentan un caso extraño y tal vez deban ser examinados aparte esos casos y no dentro del estudio "
   ]
  },
  {
   "cell_type": "markdown",
   "metadata": {
    "collapsed": true
   },
   "source": [
    "# https://docs.scipy.org/doc/scipy-0.14.0/reference/generated/scipy.stats.kstest.html\n",
    "\n",
    "\n",
    "This performs a test of the distribution G(x) of an observed random variable against a given distribution F(x). Under the null hypothesis the two distributions are identical, G(x)=F(x). The alternative hypothesis can be either ‘two-sided’ (default), ‘less’ or ‘greater’. The KS test is only valid for continuous distributions."
   ]
  },
  {
   "cell_type": "code",
   "execution_count": 50,
   "metadata": {
    "collapsed": true
   },
   "outputs": [],
   "source": [
    "from scipy import stats"
   ]
  },
  {
   "cell_type": "code",
   "execution_count": 51,
   "metadata": {
    "collapsed": false
   },
   "outputs": [
    {
     "name": "stdout",
     "output_type": "stream",
     "text": [
      "Total gastos por grupo etareo:  KstestResult(statistic=1.0, pvalue=0.0)\n",
      "Total gastos por grupo etareo hombres:  KstestResult(statistic=1.0, pvalue=0.0)\n",
      "Total gastos por grupo etareo mujeres:  KstestResult(statistic=1.0, pvalue=0.0)\n"
     ]
    }
   ],
   "source": [
    "print \"Total gastos por grupo etareo: \",stats.kstest(np.array(total_gastos), 'norm')\n",
    "print \"Total gastos por grupo etareo hombres: \",stats.kstest(np.array(total_gastos_M), 'norm')\n",
    "print \"Total gastos por grupo etareo mujeres: \",stats.kstest(np.array(total_gastos_F), 'norm')"
   ]
  },
  {
   "cell_type": "code",
   "execution_count": 67,
   "metadata": {
    "collapsed": true
   },
   "outputs": [],
   "source": [
    "#https://github.com/afolaborn/Python_Jupyter_Notebook/blob/master/Population-Pyramid/Population_Pyramid_Final.ipynb"
   ]
  },
  {
   "cell_type": "code",
   "execution_count": 66,
   "metadata": {
    "collapsed": true
   },
   "outputs": [],
   "source": [
    "import seaborn as sns"
   ]
  },
  {
   "cell_type": "code",
   "execution_count": 64,
   "metadata": {
    "collapsed": false
   },
   "outputs": [],
   "source": [
    "gastos_m = np.array(total_gastos_M)\n",
    "gastos_f = np.array(total_gastos_F)\n",
    "grupos_et = np.array(['0 - 4', '5 - 9', '10 - 14','15 - 19','20 - 24', '25 - 29', \n",
    "           '30 - 34','35 - 39','40 - 44', '45 - 49','50 - 54', '55 - 59',\n",
    "           '60 - 64', '65 - 69','70 - 74','75 - 79','80 - 84','85 - 89',\n",
    "           '90 - 94', '95 - 99','100 - 104'])"
   ]
  },
  {
   "cell_type": "code",
   "execution_count": 53,
   "metadata": {
    "collapsed": false
   },
   "outputs": [
    {
     "data": {
      "text/html": [
       "<div>\n",
       "<table border=\"1\" class=\"dataframe\">\n",
       "  <thead>\n",
       "    <tr style=\"text-align: right;\">\n",
       "      <th></th>\n",
       "      <th>EDAD</th>\n",
       "      <th>FECHA_PRESTACION_SERVICIO</th>\n",
       "      <th>FECHA_RECEPC</th>\n",
       "      <th>G_ETAREO</th>\n",
       "      <th>SEXO</th>\n",
       "      <th>SUM_VLR_DETALLE</th>\n",
       "    </tr>\n",
       "  </thead>\n",
       "  <tbody>\n",
       "    <tr>\n",
       "      <th>0</th>\n",
       "      <td>94.0</td>\n",
       "      <td>2010-07-01</td>\n",
       "      <td>2010-07-22</td>\n",
       "      <td>18.0</td>\n",
       "      <td>1.0</td>\n",
       "      <td>62000.0</td>\n",
       "    </tr>\n",
       "    <tr>\n",
       "      <th>1</th>\n",
       "      <td>88.0</td>\n",
       "      <td>2010-06-26</td>\n",
       "      <td>2010-07-22</td>\n",
       "      <td>17.0</td>\n",
       "      <td>0.0</td>\n",
       "      <td>43000.0</td>\n",
       "    </tr>\n",
       "    <tr>\n",
       "      <th>2</th>\n",
       "      <td>88.0</td>\n",
       "      <td>2010-06-26</td>\n",
       "      <td>2010-07-22</td>\n",
       "      <td>17.0</td>\n",
       "      <td>0.0</td>\n",
       "      <td>36000.0</td>\n",
       "    </tr>\n",
       "  </tbody>\n",
       "</table>\n",
       "</div>"
      ],
      "text/plain": [
       "   EDAD FECHA_PRESTACION_SERVICIO FECHA_RECEPC  G_ETAREO  SEXO  \\\n",
       "0  94.0                2010-07-01   2010-07-22      18.0   1.0   \n",
       "1  88.0                2010-06-26   2010-07-22      17.0   0.0   \n",
       "2  88.0                2010-06-26   2010-07-22      17.0   0.0   \n",
       "\n",
       "   SUM_VLR_DETALLE  \n",
       "0          62000.0  \n",
       "1          43000.0  \n",
       "2          36000.0  "
      ]
     },
     "execution_count": 53,
     "metadata": {},
     "output_type": "execute_result"
    }
   ],
   "source": [
    "df_full.head(3)"
   ]
  },
  {
   "cell_type": "code",
   "execution_count": 69,
   "metadata": {
    "collapsed": false
   },
   "outputs": [
    {
     "name": "stdout",
     "output_type": "stream",
     "text": [
      "(51412, 6) 0.0 (52353, 6) 0.0\n",
      "(80684, 6) 1.0 (93181, 6) 1.0\n",
      "(90255, 6) 2.0 (97123, 6) 2.0\n",
      "(151706, 6) 3.0 (128612, 6) 3.0\n",
      "(205275, 6) 4.0 (178564, 6) 4.0\n",
      "(153175, 6) 5.0 (106295, 6) 5.0\n",
      "(115697, 6) 6.0 (50121, 6) 6.0\n",
      "(118687, 6) 7.0 (52451, 6) 7.0\n",
      "(128659, 6) 8.0 (55822, 6) 8.0\n",
      "(225386, 6) 9.0 (69842, 6) 9.0\n",
      "(424791, 6) 10.0 (153364, 6) 10.0\n",
      "(624934, 6) 11.0 (362535, 6) 11.0\n",
      "(687233, 6) 12.0 (577786, 6) 12.0\n",
      "(562275, 6) 13.0 (523183, 6) 13.0\n",
      "(561004, 6) 14.0 (384065, 6) 14.0\n",
      "(627125, 6) 15.0 (385147, 6) 15.0\n",
      "(607021, 6) 16.0 (406497, 6) 16.0\n",
      "(590617, 6) 17.0 (391004, 6) 17.0\n",
      "(308067, 6) 18.0 (160798, 6) 18.0\n",
      "(138991, 6) 19.0 (112527, 6) 19.0\n",
      "(30556, 6) 20.0 (23355, 6) 20.0\n"
     ]
    }
   ],
   "source": [
    "pir_m = []\n",
    "pir_f = []\n",
    "\n",
    "for index, group in df_full.groupby(\"G_ETAREO\"):\n",
    "    print group[group.SEXO==1.].shape, index, group[group.SEXO==0.].shape, index\n",
    "    pir_f.append(group[group.SEXO==1.].shape[0])\n",
    "    pir_m.append(group[group.SEXO==0.].shape[0])\n",
    "    "
   ]
  },
  {
   "cell_type": "code",
   "execution_count": 70,
   "metadata": {
    "collapsed": false
   },
   "outputs": [
    {
     "name": "stdout",
     "output_type": "stream",
     "text": [
      "[51412, 80684, 90255, 151706, 205275, 153175, 115697, 118687, 128659, 225386, 424791, 624934, 687233, 562275, 561004, 627125, 607021, 590617, 308067, 138991, 30556]\n",
      "[52353, 93181, 97123, 128612, 178564, 106295, 50121, 52451, 55822, 69842, 153364, 362535, 577786, 523183, 384065, 385147, 406497, 391004, 160798, 112527, 23355]\n"
     ]
    }
   ],
   "source": [
    "print pir_f\n",
    "print pir_m"
   ]
  },
  {
   "cell_type": "code",
   "execution_count": 71,
   "metadata": {
    "collapsed": true
   },
   "outputs": [],
   "source": [
    "pir_f = np.array(pir_f)\n",
    "pir_m = np.array(pir_m)"
   ]
  },
  {
   "cell_type": "code",
   "execution_count": 72,
   "metadata": {
    "collapsed": false
   },
   "outputs": [
    {
     "name": "stdout",
     "output_type": "stream",
     "text": [
      "21 21 21\n"
     ]
    }
   ],
   "source": [
    "print len(pir_m), len(pir_f), len(grupos_et)"
   ]
  },
  {
   "cell_type": "code",
   "execution_count": 81,
   "metadata": {
    "collapsed": false
   },
   "outputs": [
    {
     "data": {
      "image/png": "[encoded data removed]",
      "text/plain": [
       "<matplotlib.figure.Figure at 0x7f7b4af90e10>"
      ]
     },
     "metadata": {},
     "output_type": "display_data"
    }
   ],
   "source": [
    "sns.set_style(\"white\")\n",
    "\n",
    "order = grupos_et\n",
    "bar_plot = sns.barplot(x=pir_m*-1, y=grupos_et, color=\"blue\", label=\"Hombres\", order=order)\n",
    "bar_plot = sns.barplot(x=pir_f, y=grupos_et, color=\"red\", label=\"Mujeres\", order=order)\n",
    "\n",
    "# Labels \n",
    "bar_plot.set(xlabel=\"Poblacion\", ylabel=\"Grupo etareo\", title = \"Piramide poblacional\");\n"
   ]
  },
  {
   "cell_type": "code",
   "execution_count": null,
   "metadata": {
    "collapsed": true
   },
   "outputs": [],
   "source": []
  }
 ],
 "metadata": {
  "kernelspec": {
   "display_name": "Python 2",
   "language": "python",
   "name": "python2"
  },
  "language_info": {
   "codemirror_mode": {
    "name": "ipython",
    "version": 2
   },
   "file_extension": ".py",
   "mimetype": "text/x-python",
   "name": "python",
   "nbconvert_exporter": "python",
   "pygments_lexer": "ipython2",
   "version": "2.7.13"
  }
 },
 "nbformat": 4,
 "nbformat_minor": 2
}
